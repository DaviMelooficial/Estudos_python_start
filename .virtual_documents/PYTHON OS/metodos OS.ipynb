


import os 





os.getcwd()





os.listdir('C:\\Users')





#os.chdir()


actual_dir = os.getcwd()


print(actual_dir)


os.chdir('C:\\Users\\davi.melo')


print(os.getcwd())


os.chdir(actual_dir)


print(os.getcwd())





os.mkdir("pasta criada com os")





os.rename("teste.txt", "nome alterado com os.txt")





os.remove("teste.csv")


os.rmdir("pasta criada com os")





os.system()



