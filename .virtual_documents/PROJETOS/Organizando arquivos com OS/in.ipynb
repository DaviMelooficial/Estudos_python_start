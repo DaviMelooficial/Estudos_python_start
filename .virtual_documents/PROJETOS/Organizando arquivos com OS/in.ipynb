


import os





atual_dir = os.getcwd() # Diretorio atual
items_dir = os.listdir(atual_dir) # Lista de items no diretorio com os.listdir
lista_tipos = [] # Lista vazia para receber os tipos de arquivos
lista_dir = [] # Lista dos 





for i in items_dir:
    lista_tipos.append(i.split(".")[-1])





for tipos in lista_tipos:
    '''
    Foi utilizado uma verificação para impedir que os arquivos
    (.py), (.ipynb) e que já tivessem um diretorio não fosse criado uma nova pasta
    e evitar erros de pastas com os mesmos nomes
    '''
    if os.path.isdir(i) == False and tipos not in ["ipynb", "py"]: 
        os.mkdir(i) # Cria pasta
    else:
        continue
    '''
    Para mudar um arquivo de seu diretorio para a sua nova pasta
    foi feita uma verificação a cada iteração onde se o item fosse um arquivo
    e sua extenção(item.split(".")[-1]) fosse diferente de ipynb or py
    ele deveria atribuir o seu path
    '''
for item in items_dir:
    if os.path.isfile(item) and item.split(".")[-1] not in ["ipynb", "py"]:
        path_atual = atual_dir + '\\' + item
        print(path_atual)
        path_para = atual_dir + '\\' + item.split(".")[-1] + '\\' + item
        print(path_para)
        os.replace(path_atual, path_para)



