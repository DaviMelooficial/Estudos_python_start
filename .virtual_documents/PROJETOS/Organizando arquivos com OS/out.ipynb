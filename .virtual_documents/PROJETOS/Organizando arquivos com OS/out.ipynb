import os





atual_dir = os.getcwd()
items_dir = os.listdir()
list_dir = []
print(atual_dir)
print(items_dir)





for item in items_dir:
    if os.path.isdir(item):
        list_dir.append(item)
        
print(list_dir)





for item in list_dir:
    os.chdir(atual_dir + "\\" + item)  # Entra no diretório
    items_dir = os.listdir()  # Lista os arquivos no diretório
    arquivo_dir = os.getcwd()  # Obtém o caminho completo do diretório atual

    for arquivo in items_dir:
        caminho_arquivo = os.path.join(arquivo_dir, arquivo)  # Caminho completo do arquivo
        destino = os.path.join(atual_dir, arquivo)  # Caminho completo de destino
        os.replace(caminho_arquivo, destino)  # Move o arquivo para o diretório de destino



