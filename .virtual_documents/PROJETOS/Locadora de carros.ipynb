import os

carros = [
    "Chevrolet Tracker",
    "Chevrolet Onix",
    "Chevrolet Spin",
    "Hyundai HB20",
    "Hyundai Tucson",
    "Fiat Uno",
    "Fiat Mobi",
    "Fiat Pulse"
]

while True:
    os.system("clear")
    
    print("=============")
    print("Bem vindo à locadora de carros!")
    print("=============")
    print("O que deseja fazer?")
    print("0 - Mostrar portifólio | 1 - Alugar um carro | 2 - Devolver um carro")
    
    acao = int(input())
    
    if acao == 0:
        for i in carros:
            print(i)
        print()
        print()
        print()
        print("=============")
        print("0 - CONTINUAR | 1 - SAIR")
        acao_locacao = int(input())
        if acao_locacao == 0:
            pass
        elif acao_locacao == 1:
            break



