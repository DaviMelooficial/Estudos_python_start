{
 "cells": [
  {
   "cell_type": "code",
   "execution_count": 9,
   "id": "5f47dea8-c2a4-4f6b-b651-2b4e636fd929",
   "metadata": {},
   "outputs": [
    {
     "name": "stdout",
     "output_type": "stream",
     "text": [
      "---------------------\n",
      "1 - Soma\n",
      "2 - Subtração\n",
      "3 - Multiplicação\n",
      "4 - Divisão\n",
      "5 - Exponenciação\n",
      "---------------------\n"
     ]
    },
    {
     "name": "stdin",
     "output_type": "stream",
     "text": [
      " 1\n"
     ]
    },
    {
     "name": "stdout",
     "output_type": "stream",
     "text": [
      "---- Soma escolhida\n",
      "Diga o primeiro número:\n"
     ]
    },
    {
     "name": "stdin",
     "output_type": "stream",
     "text": [
      " 10\n"
     ]
    },
    {
     "name": "stdout",
     "output_type": "stream",
     "text": [
      "Diga o segundo número:\n"
     ]
    },
    {
     "name": "stdin",
     "output_type": "stream",
     "text": [
      " 20\n"
     ]
    },
    {
     "name": "stdout",
     "output_type": "stream",
     "text": [
      "resultado: 30.0\n",
      "---------------------\n",
      "Deseja continuar?[S/N]\n"
     ]
    },
    {
     "name": "stdin",
     "output_type": "stream",
     "text": [
      " n\n"
     ]
    }
   ],
   "source": [
    "import os\n",
    "\n",
    "continuar = True\n",
    "\n",
    "def limpar_terminal():\n",
    "    # Para Windows\n",
    "    if os.name == 'nt':\n",
    "        os.system('cls')\n",
    "    # Para macOS e Linux\n",
    "    else:\n",
    "        os.system('clear')\n",
    "\n",
    "while continuar == True:\n",
    "    print(\"---------------------\")\n",
    "    print(\"1 - Soma\")\n",
    "    print(\"2 - Subtração\")\n",
    "    print(\"3 - Multiplicação\")\n",
    "    print(\"4 - Divisão\")\n",
    "    print(\"5 - Exponenciação\")\n",
    "    print(\"---------------------\")\n",
    "    \n",
    "    opcao = int(input())\n",
    "    \n",
    "    if opcao == 1:\n",
    "        print(\"---- Soma escolhida\")\n",
    "        \n",
    "        print(\"Diga o primeiro número:\")\n",
    "        num_1 = float(input())\n",
    "        print(\"Diga o segundo número:\")\n",
    "        num_2 = float(input())\n",
    "    \n",
    "        resultado = num_1 + num_2\n",
    "        print(\"resultado: {}\".format(resultado))\n",
    "    elif opcao == 2:\n",
    "        print(\"---- Subtração escolhida\")\n",
    "        \n",
    "        print(\"Diga o primeiro número:\")\n",
    "        num_1 = float(input())\n",
    "        print(\"Diga o segundo número:\")\n",
    "        num_2 = float(input())\n",
    "    \n",
    "        resultado = num_1 - num_2\n",
    "        print(\"resultado: {}\".format(resultado))\n",
    "    elif opcao == 3:\n",
    "        print(\"---- Multiplicação escolhida\")\n",
    "        \n",
    "        print(\"Diga o primeiro número:\")\n",
    "        num_1 = float(input())\n",
    "        print(\"Diga o segundo número:\")\n",
    "        num_2 = float(input())\n",
    "    \n",
    "        resultado = num_1 * num_2\n",
    "        print(\"resultado: {}\".format(resultado))\n",
    "    elif opcao == 4:\n",
    "        print(\"---- Divisão escolhida\")\n",
    "        \n",
    "        print(\"Diga o primeiro número:\")\n",
    "        num_1 = float(input())\n",
    "        print(\"Diga o segundo número:\")\n",
    "        num_2 = float(input())\n",
    "    \n",
    "        resultado = num_1 / num_2\n",
    "        print(\"resultado: {}\".format(resultado))\n",
    "    elif opcao == 5:\n",
    "        print(\"---- Exponenciação escolhida\")\n",
    "    \n",
    "        print(\"Diga o primeiro número:\")\n",
    "        num_1 = float(input())\n",
    "        print(\"Diga o segundo número:\")\n",
    "        num_2 = float(input())\n",
    "    \n",
    "        resultado = num_1 ** num_2\n",
    "        print(\"resultado: {}\".format(resultado))\n",
    "    \n",
    "    print(\"---------------------\")\n",
    "    print(\"Deseja continuar?[S/N]\")\n",
    "    \n",
    "    continuar_pergunta = input()\n",
    "    \n",
    "    if continuar_pergunta == \"S\":\n",
    "        limpar_terminal()\n",
    "        continue\n",
    "    else:\n",
    "        continuar = False\n"
   ]
  },
  {
   "cell_type": "code",
   "execution_count": null,
   "id": "eb0baed2-300d-4a2c-adcb-c6bd4a2dfe92",
   "metadata": {},
   "outputs": [],
   "source": []
  }
 ],
 "metadata": {
  "kernelspec": {
   "display_name": "Python 3 (ipykernel)",
   "language": "python",
   "name": "python3"
  },
  "language_info": {
   "codemirror_mode": {
    "name": "ipython",
    "version": 3
   },
   "file_extension": ".py",
   "mimetype": "text/x-python",
   "name": "python",
   "nbconvert_exporter": "python",
   "pygments_lexer": "ipython3",
   "version": "3.12.4"
  }
 },
 "nbformat": 4,
 "nbformat_minor": 5
}
