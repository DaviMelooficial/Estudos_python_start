{
 "cells": [
  {
   "cell_type": "markdown",
   "id": "db9808f5-e54d-4e5a-b710-a70e6ce639eb",
   "metadata": {},
   "source": [
    "## Importadando o OS"
   ]
  },
  {
   "cell_type": "code",
   "execution_count": 1,
   "id": "7a514f49-1730-4be1-9518-18e6d4e139d9",
   "metadata": {},
   "outputs": [],
   "source": [
    "import os"
   ]
  },
  {
   "cell_type": "markdown",
   "id": "ed163654-babf-4f57-b9bf-5c05cb285ee6",
   "metadata": {},
   "source": [
    "## Criadas listas que serão usadas no código"
   ]
  },
  {
   "cell_type": "code",
   "execution_count": 4,
   "id": "ce6f34ca-4391-4b1b-92fe-9ab196643f25",
   "metadata": {},
   "outputs": [],
   "source": [
    "atual_dir = os.getcwd() # Diretorio atual\n",
    "items_dir = os.listdir(atual_dir) # Lista de items no diretorio com os.listdir\n",
    "lista_tipos = [] # Lista vazia para receber os tipos de arquivos\n",
    "lista_dir = [] # Lista dos "
   ]
  },
  {
   "cell_type": "markdown",
   "id": "8fbc76de-581b-452f-9304-ada8521511b1",
   "metadata": {},
   "source": [
    "## Alimentada a lista com os tipos utilizando método de string nos items"
   ]
  },
  {
   "cell_type": "code",
   "execution_count": 6,
   "id": "22b3fe71-f257-44d7-830c-e39c9cb59ae3",
   "metadata": {},
   "outputs": [],
   "source": [
    "for i in items_dir:\n",
    "    lista_tipos.append(i.split(\".\")[-1])"
   ]
  },
  {
   "cell_type": "markdown",
   "id": "ce3774ef-800b-438d-a6cf-1df6214efae0",
   "metadata": {},
   "source": [
    "## Utilizando do for na lista alimentada com os tipos e criando uma pasta para cada tipo de arquivo"
   ]
  },
  {
   "cell_type": "code",
   "execution_count": 12,
   "id": "3fa6be39-5b10-4f5a-a390-fdba449da410",
   "metadata": {},
   "outputs": [
    {
     "ename": "SyntaxError",
     "evalue": "invalid syntax (3952681008.py, line 7)",
     "output_type": "error",
     "traceback": [
      "\u001b[1;36m  Cell \u001b[1;32mIn[12], line 7\u001b[1;36m\u001b[0m\n\u001b[1;33m    if os.path.isdir(i) == False and not in [\"ipynb\", \"py\"]:\u001b[0m\n\u001b[1;37m                                         ^\u001b[0m\n\u001b[1;31mSyntaxError\u001b[0m\u001b[1;31m:\u001b[0m invalid syntax\n"
     ]
    }
   ],
   "source": [
    "for tipos in lista_tipos:\n",
    "    '''\n",
    "    Foi utilizado uma verificação para impedir que os arquivos\n",
    "    (.py), (.ipynb) e que já tivessem um diretorio não fosse criado uma nova pasta\n",
    "    e evitar erros de pastas com os mesmos nomes\n",
    "    '''\n",
    "    if os.path.isdir(i) == False and not in [\"ipynb\", \"py\"]: \n",
    "        os.mkdir(i) # Cria pasta\n",
    "    else:\n",
    "        continue\n",
    "    '''\n",
    "    Para mudar um arquivo de seu diretorio para a sua nova pasta\n",
    "    foi feita uma verificação a cada iteração onde se o item fosse um arquivo\n",
    "    e sua extenção(item.split(\".\")[-1]) fosse diferente de ipynb or py\n",
    "    ele deveria atribuir o seu path\n",
    "    '''\n",
    "for item in items_dir:\n",
    "    if os.path.isfile(item) and item.split(\".\")[-1] not in [\"ipynb\", \"py\"]:\n",
    "        path_atual = atual_dir + '\\\\' + item\n",
    "        print(path_atual)\n",
    "        path_para = atual_dir + '\\\\' + item.split(\".\")[-1] + '\\\\' + item\n",
    "        print(path_para)\n",
    "        os.replace(path_atual, path_para)"
   ]
  }
 ],
 "metadata": {
  "kernelspec": {
   "display_name": "Python 3 (ipykernel)",
   "language": "python",
   "name": "python3"
  },
  "language_info": {
   "codemirror_mode": {
    "name": "ipython",
    "version": 3
   },
   "file_extension": ".py",
   "mimetype": "text/x-python",
   "name": "python",
   "nbconvert_exporter": "python",
   "pygments_lexer": "ipython3",
   "version": "3.12.4"
  }
 },
 "nbformat": 4,
 "nbformat_minor": 5
}
