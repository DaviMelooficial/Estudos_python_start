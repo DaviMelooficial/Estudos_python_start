{
 "cells": [
  {
   "cell_type": "code",
   "execution_count": 1,
   "id": "d95bbfdb-7405-47c7-ad04-bcbd0af69716",
   "metadata": {},
   "outputs": [],
   "source": [
    "import os"
   ]
  },
  {
   "cell_type": "markdown",
   "id": "4bfe0dfd-310b-437a-9ad5-a7798e62a24e",
   "metadata": {},
   "source": [
    "## Listas que serão usadas e verificação de seus items"
   ]
  },
  {
   "cell_type": "code",
   "execution_count": 2,
   "id": "f4bacd17-5c1d-4891-8cb0-faca86ed4329",
   "metadata": {},
   "outputs": [
    {
     "name": "stdout",
     "output_type": "stream",
     "text": [
      "c:\\Users\\davi.melo\\Estudos_python_start\\PROJETOS\\Organizando arquivos com OS\n",
      "['docx', 'in.ipynb', 'out.ipynb', 'README.md', 'xlsx', 'zip']\n"
     ]
    }
   ],
   "source": [
    "atual_dir = os.getcwd()\n",
    "items_dir = os.listdir()\n",
    "list_dir = []\n",
    "print(atual_dir)\n",
    "print(items_dir)"
   ]
  },
  {
   "cell_type": "markdown",
   "id": "21c8dd8c-d6b9-45b2-9934-ee8b733158df",
   "metadata": {},
   "source": [
    "## Serão adicionadas a lista de diretorios apenas as pastas (os.path.isdir())"
   ]
  },
  {
   "cell_type": "code",
   "execution_count": 3,
   "id": "48a650c2-5bab-4e4f-9b93-76cba53e7533",
   "metadata": {},
   "outputs": [
    {
     "name": "stdout",
     "output_type": "stream",
     "text": [
      "['docx', 'xlsx', 'zip']\n"
     ]
    }
   ],
   "source": [
    "for item in items_dir:\n",
    "    if os.path.isdir(item):\n",
    "        list_dir.append(item)\n",
    "        \n",
    "print(list_dir)"
   ]
  },
  {
   "cell_type": "markdown",
   "id": "fd378fc6-d06c-4d62-be60-d58dc018c2bb",
   "metadata": {},
   "source": [
    "#### Para cada item na lista de diretorios será mudado o diretorio de execução para o diretorio do item e será feita uma lista com os arquivos dentro dele (items_dir), em seguida será salvo o diretorio atual e para cada arquivo dentro de (items_dir) vai ser atribuido o seu caminho e o caminho de destino para replace"
   ]
  },
  {
   "cell_type": "code",
   "execution_count": 4,
   "id": "e768b3b9-90b8-4226-a209-90eea7c6f47c",
   "metadata": {},
   "outputs": [],
   "source": [
    "for item in list_dir:\n",
    "    os.chdir(atual_dir + \"\\\\\" + item)  # Entra no diretório\n",
    "    items_dir = os.listdir()  # Lista os arquivos no diretório\n",
    "    arquivo_dir = os.getcwd()  # Obtém o caminho completo do diretório atual\n",
    "\n",
    "    for arquivo in items_dir:\n",
    "        caminho_arquivo = os.path.join(arquivo_dir, arquivo)  # Caminho completo do arquivo\n",
    "        destino = os.path.join(atual_dir, arquivo)  # Caminho completo de destino\n",
    "        os.replace(caminho_arquivo, destino)  # Move o arquivo para o diretório de destino"
   ]
  },
  {
   "cell_type": "code",
   "execution_count": null,
   "id": "e18c985c",
   "metadata": {},
   "outputs": [],
   "source": []
  }
 ],
 "metadata": {
  "kernelspec": {
   "display_name": "Python 3 (ipykernel)",
   "language": "python",
   "name": "python3"
  },
  "language_info": {
   "codemirror_mode": {
    "name": "ipython",
    "version": 3
   },
   "file_extension": ".py",
   "mimetype": "text/x-python",
   "name": "python",
   "nbconvert_exporter": "python",
   "pygments_lexer": "ipython3",
   "version": "3.12.4"
  }
 },
 "nbformat": 4,
 "nbformat_minor": 5
}
