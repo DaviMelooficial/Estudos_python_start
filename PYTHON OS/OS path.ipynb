{
 "cells": [
  {
   "cell_type": "code",
   "execution_count": 1,
   "id": "17abbc55-b816-4ca0-bc85-182e5e72ef17",
   "metadata": {},
   "outputs": [],
   "source": [
    "import os"
   ]
  },
  {
   "cell_type": "code",
   "execution_count": 3,
   "id": "6f26db1d-b76b-4956-a238-1f6f610431f5",
   "metadata": {},
   "outputs": [
    {
     "data": {
      "text/plain": [
       "'C:\\\\Users\\\\davi.melo\\\\Estudos_python_start\\\\PYTHON OS'"
      ]
     },
     "execution_count": 3,
     "metadata": {},
     "output_type": "execute_result"
    }
   ],
   "source": [
    "os.getcwd()"
   ]
  },
  {
   "cell_type": "markdown",
   "id": "f5d3edaa-05c7-49d6-ad52-0f6da81b0175",
   "metadata": {},
   "source": [
    "## Acrescenta algo ao caminho especificado"
   ]
  },
  {
   "cell_type": "code",
   "execution_count": 9,
   "id": "96448b38-157a-4433-a32a-c34b75da1c71",
   "metadata": {},
   "outputs": [
    {
     "data": {
      "text/plain": [
       "'C:\\\\Users\\\\davi.melo\\\\Estudos_python_start\\\\PYTHON OS\\\\pasta'"
      ]
     },
     "execution_count": 9,
     "metadata": {},
     "output_type": "execute_result"
    }
   ],
   "source": [
    "os.path.join(os.getcwd(), 'pasta')"
   ]
  },
  {
   "cell_type": "code",
   "execution_count": 13,
   "id": "7d68adeb-e16b-40c3-811d-fe2e6a1f5819",
   "metadata": {},
   "outputs": [
    {
     "data": {
      "text/plain": [
       "'C:\\\\Users\\\\davi.melo\\\\Estudos_python_start\\\\PYTHON OS'"
      ]
     },
     "execution_count": 13,
     "metadata": {},
     "output_type": "execute_result"
    }
   ],
   "source": [
    "os.getcwd()"
   ]
  },
  {
   "cell_type": "markdown",
   "id": "0ba2580d-c607-433a-8e49-11459b098222",
   "metadata": {},
   "source": [
    "## Retorna somente a última pasta do caminho"
   ]
  },
  {
   "cell_type": "code",
   "execution_count": 17,
   "id": "1ee6e096-7e14-4173-8493-f1dd6a5872a9",
   "metadata": {},
   "outputs": [
    {
     "data": {
      "text/plain": [
       "'PYTHON OS'"
      ]
     },
     "execution_count": 17,
     "metadata": {},
     "output_type": "execute_result"
    }
   ],
   "source": [
    "os.path.basename(os.getcwd())"
   ]
  },
  {
   "cell_type": "markdown",
   "id": "2a7acb61-7af4-45a7-bbff-1ad0c21aaf89",
   "metadata": {},
   "source": [
    "## Outras formas de retornar as pastas"
   ]
  },
  {
   "cell_type": "code",
   "execution_count": 38,
   "id": "69652ad6-5ca3-40a0-89bd-8031b6d2c2cb",
   "metadata": {},
   "outputs": [
    {
     "data": {
      "text/plain": [
       "'PYTHON OS'"
      ]
     },
     "execution_count": 38,
     "metadata": {},
     "output_type": "execute_result"
    }
   ],
   "source": [
    "os.getcwd().split('\\\\') # pelo caminho ser uma string os métodos tbm se aplicam\n",
    "os.getcwd().split('\\\\')[-1]"
   ]
  },
  {
   "cell_type": "code",
   "execution_count": 55,
   "id": "44de4cd8-b8bf-488e-97c5-6e444d7dd9ed",
   "metadata": {},
   "outputs": [
    {
     "data": {
      "text/plain": [
       "('C:\\\\Users\\\\davi.melo\\\\Estudos_python_start', 'PYTHON OS')"
      ]
     },
     "execution_count": 55,
     "metadata": {},
     "output_type": "execute_result"
    }
   ],
   "source": [
    "os.path.split(os.getcwd())"
   ]
  },
  {
   "cell_type": "code",
   "execution_count": 51,
   "id": "00618b51-832d-4ac8-9f7c-46064d13425a",
   "metadata": {
    "scrolled": true
   },
   "outputs": [
    {
     "data": {
      "text/plain": [
       "'C:\\\\Users\\\\davi.melo\\\\Estudos_python_start'"
      ]
     },
     "execution_count": 51,
     "metadata": {},
     "output_type": "execute_result"
    }
   ],
   "source": [
    "os.path.dirname(os.getcwd())"
   ]
  },
  {
   "cell_type": "markdown",
   "id": "f75bb33a-e751-48ae-8fcf-106e7fe78b83",
   "metadata": {},
   "source": [
    "## Retorna o tempo desde a última atualização no arquivo/pasta em *segundos*"
   ]
  },
  {
   "cell_type": "code",
   "execution_count": 62,
   "id": "56ee307c-d590-4cc7-b3a8-a24aae173f6a",
   "metadata": {},
   "outputs": [],
   "source": [
    "current_dir = os.getcwd()"
   ]
  },
  {
   "cell_type": "code",
   "execution_count": 67,
   "id": "c74bc381-099a-4732-89fe-c0ca9269797d",
   "metadata": {},
   "outputs": [],
   "source": [
    "lt = os.path.getmtime(current_dir)"
   ]
  },
  {
   "cell_type": "code",
   "execution_count": 73,
   "id": "744ba856-7135-4e76-a99d-b820299c5bdf",
   "metadata": {},
   "outputs": [
    {
     "name": "stderr",
     "output_type": "stream",
     "text": [
      "C:\\Users\\davi.melo\\AppData\\Local\\Temp\\ipykernel_7540\\2394318964.py:2: DeprecationWarning: datetime.datetime.utcfromtimestamp() is deprecated and scheduled for removal in a future version. Use timezone-aware objects to represent datetimes in UTC: datetime.datetime.fromtimestamp(timestamp, datetime.UTC).\n",
      "  datetime.utcfromtimestamp(lt)\n"
     ]
    },
    {
     "data": {
      "text/plain": [
       "datetime.datetime(2024, 8, 23, 15, 54, 41, 138769)"
      ]
     },
     "execution_count": 73,
     "metadata": {},
     "output_type": "execute_result"
    }
   ],
   "source": [
    "from datetime import datetime\n",
    "datetime.utcfromtimestamp(lt)"
   ]
  },
  {
   "cell_type": "markdown",
   "id": "b2283399-6e37-4c80-9320-c2700de7e413",
   "metadata": {},
   "source": [
    "## Retorna se o diretório é uma pasta ou um arquivo"
   ]
  },
  {
   "cell_type": "code",
   "execution_count": 76,
   "id": "f762144f-838b-49f4-8c0b-4a2abeea0a90",
   "metadata": {},
   "outputs": [
    {
     "data": {
      "text/plain": [
       "False"
      ]
     },
     "execution_count": 76,
     "metadata": {},
     "output_type": "execute_result"
    }
   ],
   "source": [
    "os.path.isfile(os.getcwd())"
   ]
  },
  {
   "cell_type": "code",
   "execution_count": 78,
   "id": "78af474f-c700-4c39-8864-ee34a98914e6",
   "metadata": {},
   "outputs": [
    {
     "data": {
      "text/plain": [
       "True"
      ]
     },
     "execution_count": 78,
     "metadata": {},
     "output_type": "execute_result"
    }
   ],
   "source": [
    "os.path.isdir(os.getcwd())"
   ]
  }
 ],
 "metadata": {
  "kernelspec": {
   "display_name": "Python 3 (ipykernel)",
   "language": "python",
   "name": "python3"
  },
  "language_info": {
   "codemirror_mode": {
    "name": "ipython",
    "version": 3
   },
   "file_extension": ".py",
   "mimetype": "text/x-python",
   "name": "python",
   "nbconvert_exporter": "python",
   "pygments_lexer": "ipython3",
   "version": "3.12.4"
  }
 },
 "nbformat": 4,
 "nbformat_minor": 5
}
