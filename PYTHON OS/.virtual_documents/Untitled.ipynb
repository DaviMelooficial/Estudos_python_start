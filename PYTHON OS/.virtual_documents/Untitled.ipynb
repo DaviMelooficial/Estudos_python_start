import os 


os.getcwd()


os.listdir()



