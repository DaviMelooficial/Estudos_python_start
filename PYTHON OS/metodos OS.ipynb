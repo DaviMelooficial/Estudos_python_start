{
 "cells": [
  {
   "cell_type": "markdown",
   "id": "15aa24c2-b21b-4aaf-b2cd-00f22774ac5a",
   "metadata": {},
   "source": [
    "## Métodos OS"
   ]
  },
  {
   "cell_type": "code",
   "execution_count": 4,
   "id": "e27e73c5-4e97-430a-9c69-e2727402db77",
   "metadata": {},
   "outputs": [],
   "source": [
    "import os "
   ]
  },
  {
   "cell_type": "markdown",
   "id": "7cc6ef9f-ba3a-4807-a4f0-28e522324391",
   "metadata": {},
   "source": [
    "## Retorna o diretório onde está sendo executado o código"
   ]
  },
  {
   "cell_type": "code",
   "execution_count": 11,
   "id": "efe4c7c0-2c5f-4d97-b1d4-d12c0c040aa7",
   "metadata": {},
   "outputs": [
    {
     "data": {
      "text/plain": [
       "'C:\\\\Users\\\\davi.melo\\\\Estudos_python_start\\\\PYTHON OS'"
      ]
     },
     "execution_count": 11,
     "metadata": {},
     "output_type": "execute_result"
    }
   ],
   "source": [
    "os.getcwd()"
   ]
  },
  {
   "cell_type": "markdown",
   "id": "5440b704-8c27-4411-8cef-829a6591cc52",
   "metadata": {},
   "source": [
    "## Retorna uma lista dos items dentro da pasta atual ou especificicada"
   ]
  },
  {
   "cell_type": "code",
   "execution_count": 16,
   "id": "e426e39e-971d-46de-9fe5-82d52ca1ac4c",
   "metadata": {
    "editable": true,
    "scrolled": true,
    "slideshow": {
     "slide_type": ""
    },
    "tags": []
   },
   "outputs": [
    {
     "data": {
      "text/plain": [
       "['Administrador',\n",
       " 'All Users',\n",
       " 'amanda.lais',\n",
       " 'davi.melo',\n",
       " 'Default',\n",
       " 'Default User',\n",
       " 'desktop.ini',\n",
       " 'EA',\n",
       " 'Public',\n",
       " 'Samanta.silva',\n",
       " 'Todos os Usuários',\n",
       " 'Usuário Padrão']"
      ]
     },
     "execution_count": 16,
     "metadata": {},
     "output_type": "execute_result"
    }
   ],
   "source": [
    "os.listdir('C:\\\\Users')"
   ]
  },
  {
   "cell_type": "markdown",
   "id": "89ee7ff0-2142-4f99-ae9d-fbb5312391cc",
   "metadata": {},
   "source": [
    "## Troca o diretório para um especificado"
   ]
  },
  {
   "cell_type": "code",
   "execution_count": 19,
   "id": "15da7af9-5dc2-4ff1-845b-6e3b250d3370",
   "metadata": {},
   "outputs": [],
   "source": [
    "#os.chdir()"
   ]
  },
  {
   "cell_type": "code",
   "execution_count": 25,
   "id": "a9f83192-0c73-4531-aa0d-7f7a5316b7c7",
   "metadata": {},
   "outputs": [],
   "source": [
    "actual_dir = os.getcwd()"
   ]
  },
  {
   "cell_type": "code",
   "execution_count": 27,
   "id": "cac65521-c405-4609-8109-06039d0f651e",
   "metadata": {},
   "outputs": [
    {
     "name": "stdout",
     "output_type": "stream",
     "text": [
      "C:\\Users\\davi.melo\\Estudos_python_start\\PYTHON OS\n"
     ]
    }
   ],
   "source": [
    "print(actual_dir)"
   ]
  },
  {
   "cell_type": "code",
   "execution_count": 31,
   "id": "478a61d5-15b5-49a4-b409-ec59e47ed22b",
   "metadata": {},
   "outputs": [],
   "source": [
    "os.chdir('C:\\\\Users\\\\davi.melo')"
   ]
  },
  {
   "cell_type": "code",
   "execution_count": 33,
   "id": "241e1446-d16d-4835-a215-bc930d33cc83",
   "metadata": {},
   "outputs": [
    {
     "name": "stdout",
     "output_type": "stream",
     "text": [
      "C:\\Users\\davi.melo\n"
     ]
    }
   ],
   "source": [
    "print(os.getcwd())"
   ]
  },
  {
   "cell_type": "code",
   "execution_count": 35,
   "id": "0d0c365b-e9c8-492d-8dea-4683959addfb",
   "metadata": {},
   "outputs": [],
   "source": [
    "os.chdir(actual_dir)"
   ]
  },
  {
   "cell_type": "code",
   "execution_count": 37,
   "id": "88aefec4-3472-41bc-b431-f934e3696150",
   "metadata": {},
   "outputs": [
    {
     "name": "stdout",
     "output_type": "stream",
     "text": [
      "C:\\Users\\davi.melo\\Estudos_python_start\\PYTHON OS\n"
     ]
    }
   ],
   "source": [
    "print(os.getcwd())"
   ]
  },
  {
   "cell_type": "markdown",
   "id": "6be2ffdc-d0e9-452b-b702-88938e6f7538",
   "metadata": {},
   "source": [
    "## Cria pastas"
   ]
  },
  {
   "cell_type": "code",
   "execution_count": 40,
   "id": "f72000f8-c94b-4a2a-987e-676d31967223",
   "metadata": {},
   "outputs": [],
   "source": [
    "os.mkdir(\"pasta criada com os\")"
   ]
  },
  {
   "cell_type": "markdown",
   "id": "083def33-fe1f-4582-b3d0-505e865e2436",
   "metadata": {},
   "source": [
    "## Renomeia arquivos e pastas"
   ]
  },
  {
   "cell_type": "code",
   "execution_count": 43,
   "id": "5528c93a-73cb-42d2-b5ba-81480164a58a",
   "metadata": {},
   "outputs": [],
   "source": [
    "os.rename(\"teste.txt\", \"nome alterado com os.txt\")"
   ]
  },
  {
   "cell_type": "markdown",
   "id": "f037c4ab-8048-42bf-8ad2-7749cec7d6dd",
   "metadata": {},
   "source": [
    "## Apaga arquivos e pastas"
   ]
  },
  {
   "cell_type": "code",
   "execution_count": 48,
   "id": "3a5bb9b0-583c-4931-aa9b-7648ddac164c",
   "metadata": {},
   "outputs": [],
   "source": [
    "os.remove(\"teste.csv\")"
   ]
  },
  {
   "cell_type": "code",
   "execution_count": 51,
   "id": "ea3590c6-b16f-4259-a607-e236067ac56e",
   "metadata": {},
   "outputs": [],
   "source": [
    "os.rmdir(\"pasta criada com os\")"
   ]
  },
  {
   "cell_type": "markdown",
   "id": "2ec40f65-ffd1-457e-b4dc-f892a26c368c",
   "metadata": {},
   "source": [
    "## Executa comandos diretamente no CMD "
   ]
  },
  {
   "cell_type": "code",
   "execution_count": 6,
   "id": "21a631b8-75e7-483b-b15d-b7cb3252c0b5",
   "metadata": {},
   "outputs": [
    {
     "ename": "TypeError",
     "evalue": "system() missing required argument 'command' (pos 1)",
     "output_type": "error",
     "traceback": [
      "\u001b[1;31m---------------------------------------------------------------------------\u001b[0m",
      "\u001b[1;31mTypeError\u001b[0m                                 Traceback (most recent call last)",
      "Cell \u001b[1;32mIn[6], line 1\u001b[0m\n\u001b[1;32m----> 1\u001b[0m os\u001b[38;5;241m.\u001b[39msystem()\n",
      "\u001b[1;31mTypeError\u001b[0m: system() missing required argument 'command' (pos 1)"
     ]
    }
   ],
   "source": [
    "os.system()"
   ]
  },
  {
   "cell_type": "code",
   "execution_count": null,
   "id": "ea192c4c-ca1d-40b2-bca0-67bbcecc4751",
   "metadata": {},
   "outputs": [],
   "source": []
  }
 ],
 "metadata": {
  "kernelspec": {
   "display_name": "Python 3 (ipykernel)",
   "language": "python",
   "name": "python3"
  },
  "language_info": {
   "codemirror_mode": {
    "name": "ipython",
    "version": 3
   },
   "file_extension": ".py",
   "mimetype": "text/x-python",
   "name": "python",
   "nbconvert_exporter": "python",
   "pygments_lexer": "ipython3",
   "version": "3.12.4"
  }
 },
 "nbformat": 4,
 "nbformat_minor": 5
}
