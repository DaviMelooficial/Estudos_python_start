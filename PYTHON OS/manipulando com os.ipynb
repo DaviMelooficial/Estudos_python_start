{
 "cells": [
  {
   "cell_type": "code",
   "execution_count": 1,
   "id": "6f9121c4-2ef2-4942-9f80-b9e825985a5b",
   "metadata": {},
   "outputs": [],
   "source": [
    "import os "
   ]
  },
  {
   "cell_type": "code",
   "execution_count": 5,
   "id": "efe4c7c0-2c5f-4d97-b1d4-d12c0c040aa7",
   "metadata": {},
   "outputs": [
    {
     "data": {
      "text/plain": [
       "'C:\\\\Users\\\\Davim\\\\OneDrive\\\\Área de Trabalho\\\\Machine learning\\\\Estudos_python_start\\\\PYTHON OS'"
      ]
     },
     "execution_count": 5,
     "metadata": {},
     "output_type": "execute_result"
    }
   ],
   "source": [
    "os.getcwd()"
   ]
  },
  {
   "cell_type": "code",
   "execution_count": 7,
   "id": "e426e39e-971d-46de-9fe5-82d52ca1ac4c",
   "metadata": {},
   "outputs": [
    {
     "data": {
      "text/plain": [
       "['.ipynb_checkpoints',\n",
       " '.virtual_documents',\n",
       " 'manipulando com os.ipynb',\n",
       " 'Manipular OS',\n",
       " 'teste.csv',\n",
       " 'teste.json',\n",
       " 'teste.txt']"
      ]
     },
     "execution_count": 7,
     "metadata": {},
     "output_type": "execute_result"
    }
   ],
   "source": [
    "os.listdir()"
   ]
  },
  {
   "cell_type": "code",
   "execution_count": null,
   "id": "22da9019-14da-408a-a735-f646126a0626",
   "metadata": {},
   "outputs": [],
   "source": []
  }
 ],
 "metadata": {
  "kernelspec": {
   "display_name": "Python 3 (ipykernel)",
   "language": "python",
   "name": "python3"
  },
  "language_info": {
   "codemirror_mode": {
    "name": "ipython",
    "version": 3
   },
   "file_extension": ".py",
   "mimetype": "text/x-python",
   "name": "python",
   "nbconvert_exporter": "python",
   "pygments_lexer": "ipython3",
   "version": "3.12.4"
  }
 },
 "nbformat": 4,
 "nbformat_minor": 5
}
