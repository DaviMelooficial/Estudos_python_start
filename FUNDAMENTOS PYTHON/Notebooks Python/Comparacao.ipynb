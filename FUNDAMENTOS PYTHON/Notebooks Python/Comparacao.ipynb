{
 "cells": [
  {
   "cell_type": "markdown",
   "id": "78e35da4-1c1f-47b8-8837-25540e2e18ea",
   "metadata": {},
   "source": [
    "## Operadores de comparação"
   ]
  },
  {
   "cell_type": "markdown",
   "id": "fb911ba1-98eb-4115-9b41-540a15f2aad4",
   "metadata": {},
   "source": [
    "#### Igualdade"
   ]
  },
  {
   "cell_type": "code",
   "execution_count": 3,
   "id": "76febe8f-245f-4a01-ac01-ea8f1de46308",
   "metadata": {},
   "outputs": [
    {
     "data": {
      "text/plain": [
       "True"
      ]
     },
     "execution_count": 3,
     "metadata": {},
     "output_type": "execute_result"
    }
   ],
   "source": [
    "2 == 2"
   ]
  },
  {
   "cell_type": "code",
   "execution_count": 16,
   "id": "b453aa50-3e1a-4f44-a9b8-252d5cf7b2a8",
   "metadata": {},
   "outputs": [
    {
     "data": {
      "text/plain": [
       "False"
      ]
     },
     "execution_count": 16,
     "metadata": {},
     "output_type": "execute_result"
    }
   ],
   "source": [
    "1 == 0"
   ]
  },
  {
   "cell_type": "markdown",
   "id": "7559927b-2661-4b40-b325-9105c6590737",
   "metadata": {},
   "source": [
    "#### Desigualdade\n"
   ]
  },
  {
   "cell_type": "code",
   "execution_count": 9,
   "id": "c9580760-6b35-412f-b240-4581c1ae718a",
   "metadata": {},
   "outputs": [
    {
     "data": {
      "text/plain": [
       "True"
      ]
     },
     "execution_count": 9,
     "metadata": {},
     "output_type": "execute_result"
    }
   ],
   "source": [
    "2 != 0"
   ]
  },
  {
   "cell_type": "code",
   "execution_count": 13,
   "id": "4948ed04-f48e-4fa1-b3d5-015ac71c8c02",
   "metadata": {},
   "outputs": [
    {
     "data": {
      "text/plain": [
       "True"
      ]
     },
     "execution_count": 13,
     "metadata": {},
     "output_type": "execute_result"
    }
   ],
   "source": [
    "\"string\" != \"1\""
   ]
  },
  {
   "cell_type": "markdown",
   "id": "6f1a4a7b-ec5f-43ea-8be3-8ea83242771f",
   "metadata": {},
   "source": [
    "#### Maior ou igual que"
   ]
  },
  {
   "cell_type": "code",
   "execution_count": 21,
   "id": "0a1648cc-bea7-4243-aeb8-658aed74803d",
   "metadata": {},
   "outputs": [
    {
     "data": {
      "text/plain": [
       "True"
      ]
     },
     "execution_count": 21,
     "metadata": {},
     "output_type": "execute_result"
    }
   ],
   "source": [
    " 10 >= 10"
   ]
  },
  {
   "cell_type": "code",
   "execution_count": 23,
   "id": "72d7b670-48e7-4f2e-8e09-fc1f9e06efe3",
   "metadata": {},
   "outputs": [
    {
     "data": {
      "text/plain": [
       "False"
      ]
     },
     "execution_count": 23,
     "metadata": {},
     "output_type": "execute_result"
    }
   ],
   "source": [
    "10 >= 11"
   ]
  },
  {
   "cell_type": "markdown",
   "id": "3eb5e99d-d971-4062-9588-2d2c25e1f7d8",
   "metadata": {},
   "source": [
    "#### Menor ou igual que"
   ]
  },
  {
   "cell_type": "code",
   "execution_count": 27,
   "id": "3ae1d1a0-1926-4baa-b33f-bf7606de326c",
   "metadata": {},
   "outputs": [
    {
     "data": {
      "text/plain": [
       "True"
      ]
     },
     "execution_count": 27,
     "metadata": {},
     "output_type": "execute_result"
    }
   ],
   "source": [
    "11 <= 12"
   ]
  },
  {
   "cell_type": "code",
   "execution_count": 29,
   "id": "f06f470e-2bc6-42df-b394-fa11cbf91909",
   "metadata": {},
   "outputs": [
    {
     "data": {
      "text/plain": [
       "False"
      ]
     },
     "execution_count": 29,
     "metadata": {},
     "output_type": "execute_result"
    }
   ],
   "source": [
    "11 <= 10"
   ]
  },
  {
   "cell_type": "code",
   "execution_count": null,
   "id": "98d24d04-dd6f-4b9c-aacd-6fe119bf15ec",
   "metadata": {},
   "outputs": [],
   "source": []
  }
 ],
 "metadata": {
  "kernelspec": {
   "display_name": "Python 3 (ipykernel)",
   "language": "python",
   "name": "python3"
  },
  "language_info": {
   "codemirror_mode": {
    "name": "ipython",
    "version": 3
   },
   "file_extension": ".py",
   "mimetype": "text/x-python",
   "name": "python",
   "nbconvert_exporter": "python",
   "pygments_lexer": "ipython3",
   "version": "3.12.4"
  }
 },
 "nbformat": 4,
 "nbformat_minor": 5
}
