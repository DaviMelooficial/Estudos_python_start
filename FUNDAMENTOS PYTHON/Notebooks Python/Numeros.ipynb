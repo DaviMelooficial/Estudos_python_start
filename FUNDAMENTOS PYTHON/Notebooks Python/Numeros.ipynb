{
 "cells": [
  {
   "cell_type": "markdown",
   "id": "d7a88611-683c-46c5-bb53-94598edc30ac",
   "metadata": {},
   "source": [
    "## Números e suas operações básicas\n"
   ]
  },
  {
   "cell_type": "markdown",
   "id": "20a425fd-1edb-474d-8b59-2f437c3599b0",
   "metadata": {},
   "source": [
    "SOMA"
   ]
  },
  {
   "cell_type": "code",
   "execution_count": 23,
   "id": "4ca1a32f-6042-4f85-bd9d-ab3d3d9503d8",
   "metadata": {},
   "outputs": [
    {
     "data": {
      "text/plain": [
       "3"
      ]
     },
     "execution_count": 23,
     "metadata": {},
     "output_type": "execute_result"
    }
   ],
   "source": [
    "2 + 1"
   ]
  },
  {
   "cell_type": "markdown",
   "id": "2c732609-b2f8-427b-b45f-54fd68b1616d",
   "metadata": {},
   "source": [
    "SUBTRAÇÃO"
   ]
  },
  {
   "cell_type": "code",
   "execution_count": 9,
   "id": "50232a9b-08af-4d7d-b203-30b7fefabf82",
   "metadata": {},
   "outputs": [
    {
     "data": {
      "text/plain": [
       "1"
      ]
     },
     "execution_count": 9,
     "metadata": {},
     "output_type": "execute_result"
    }
   ],
   "source": [
    "2 - 1 "
   ]
  },
  {
   "cell_type": "markdown",
   "id": "6e72c861-31fc-4d2f-8ca7-5836426170b0",
   "metadata": {},
   "source": [
    "MULTIPLICAÇÃO"
   ]
  },
  {
   "cell_type": "code",
   "execution_count": 11,
   "id": "2d8abb77-4e92-4020-be8d-bdd27202623c",
   "metadata": {},
   "outputs": [
    {
     "data": {
      "text/plain": [
       "4"
      ]
     },
     "execution_count": 11,
     "metadata": {},
     "output_type": "execute_result"
    }
   ],
   "source": [
    "2 * 2"
   ]
  },
  {
   "cell_type": "markdown",
   "id": "b6b3b0b4-3433-4360-9a09-89938ddaa732",
   "metadata": {},
   "source": [
    "DIVISÃO"
   ]
  },
  {
   "cell_type": "code",
   "execution_count": 25,
   "id": "e9ed5b30-04fe-48b4-88d9-b371f1355aec",
   "metadata": {},
   "outputs": [
    {
     "data": {
      "text/plain": [
       "1.0"
      ]
     },
     "execution_count": 25,
     "metadata": {},
     "output_type": "execute_result"
    }
   ],
   "source": [
    "2/2"
   ]
  },
  {
   "cell_type": "markdown",
   "id": "51e4103e-9004-453e-b0ce-3a0e043f1c4d",
   "metadata": {},
   "source": [
    "POTENCIAÇÃO"
   ]
  },
  {
   "cell_type": "code",
   "execution_count": 15,
   "id": "4506b75c-2fe8-4b65-a08e-d16af8c74062",
   "metadata": {},
   "outputs": [
    {
     "data": {
      "text/plain": [
       "9"
      ]
     },
     "execution_count": 15,
     "metadata": {},
     "output_type": "execute_result"
    }
   ],
   "source": [
    "3 ** 2"
   ]
  },
  {
   "cell_type": "markdown",
   "id": "b4e10261-3d0d-4f27-b9db-a63aeb43215f",
   "metadata": {},
   "source": [
    "EXPRESSÕES SEGUEM A LÓGICA MATEMÁTICA"
   ]
  },
  {
   "cell_type": "code",
   "execution_count": 33,
   "id": "283b04a5-d941-4671-81a2-1ae8d2371eea",
   "metadata": {},
   "outputs": [
    {
     "data": {
      "text/plain": [
       "-12"
      ]
     },
     "execution_count": 33,
     "metadata": {},
     "output_type": "execute_result"
    }
   ],
   "source": [
    "(2 + 2) - 8 * 2"
   ]
  }
 ],
 "metadata": {
  "kernelspec": {
   "display_name": "Python 3 (ipykernel)",
   "language": "python",
   "name": "python3"
  },
  "language_info": {
   "codemirror_mode": {
    "name": "ipython",
    "version": 3
   },
   "file_extension": ".py",
   "mimetype": "text/x-python",
   "name": "python",
   "nbconvert_exporter": "python",
   "pygments_lexer": "ipython3",
   "version": "3.12.4"
  }
 },
 "nbformat": 4,
 "nbformat_minor": 5
}
