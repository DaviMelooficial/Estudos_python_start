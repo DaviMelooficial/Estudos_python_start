{
 "cells": [
  {
   "cell_type": "markdown",
   "id": "5dd10c3d-991b-4b62-977f-4bc15c8036f8",
   "metadata": {},
   "source": [
    "## Comparações em cadeia\n"
   ]
  },
  {
   "cell_type": "code",
   "execution_count": 4,
   "id": "ec2068da-238f-44a9-b4e0-8adb90e3c9ac",
   "metadata": {},
   "outputs": [
    {
     "data": {
      "text/plain": [
       "False"
      ]
     },
     "execution_count": 4,
     "metadata": {},
     "output_type": "execute_result"
    }
   ],
   "source": [
    "1 > 2 > 3"
   ]
  },
  {
   "cell_type": "markdown",
   "id": "7c3f955c-d038-4a6b-b45a-eb067b8b3eba",
   "metadata": {},
   "source": [
    "## Variavel que recebe o modelo do carro\n"
   ]
  },
  {
   "cell_type": "code",
   "execution_count": 9,
   "id": "c7e514dc-c7bc-4b95-aaad-2c4d66139005",
   "metadata": {},
   "outputs": [
    {
     "name": "stdin",
     "output_type": "stream",
     "text": [
      " 10\n"
     ]
    }
   ],
   "source": [
    "Modelo = input()"
   ]
  },
  {
   "cell_type": "code",
   "execution_count": 6,
   "id": "e3216b55-665e-44e4-9884-d5ba98d79eb8",
   "metadata": {},
   "outputs": [
    {
     "data": {
      "text/plain": [
       "True"
      ]
     },
     "execution_count": 6,
     "metadata": {},
     "output_type": "execute_result"
    }
   ],
   "source": [
    "(1 > 2 >3) or (2 < 3 > 2)"
   ]
  },
  {
   "cell_type": "code",
   "execution_count": 8,
   "id": "9d1c239d-c68e-47fc-b13b-5d416e147693",
   "metadata": {},
   "outputs": [
    {
     "data": {
      "text/plain": [
       "True"
      ]
     },
     "execution_count": 8,
     "metadata": {},
     "output_type": "execute_result"
    }
   ],
   "source": [
    "(1 < 2 < 3) and (3 > 2 > 1)"
   ]
  },
  {
   "cell_type": "code",
   "execution_count": null,
   "id": "c6314fcd-6d14-4686-96fd-7a358bd7b9f7",
   "metadata": {},
   "outputs": [],
   "source": []
  }
 ],
 "metadata": {
  "kernelspec": {
   "display_name": "Python 3 (ipykernel)",
   "language": "python",
   "name": "python3"
  },
  "language_info": {
   "codemirror_mode": {
    "name": "ipython",
    "version": 3
   },
   "file_extension": ".py",
   "mimetype": "text/x-python",
   "name": "python",
   "nbconvert_exporter": "python",
   "pygments_lexer": "ipython3",
   "version": "3.12.4"
  }
 },
 "nbformat": 4,
 "nbformat_minor": 5
}
