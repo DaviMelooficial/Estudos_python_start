{
 "cells": [
  {
   "cell_type": "markdown",
   "id": "906d2a94-2c7f-42e5-a034-3661c5275b6a",
   "metadata": {},
   "source": [
    "## Funções e funções lambda"
   ]
  },
  {
   "cell_type": "code",
   "execution_count": 2,
   "id": "cc017cfd-d523-4c8e-8757-d340a13eaa4e",
   "metadata": {},
   "outputs": [],
   "source": [
    "def diga_ola():\n",
    "    print(\"Olá\")"
   ]
  },
  {
   "cell_type": "code",
   "execution_count": 4,
   "id": "0d02b0c9-fe5e-4bc0-8d62-e045d946ebee",
   "metadata": {},
   "outputs": [
    {
     "name": "stdout",
     "output_type": "stream",
     "text": [
      "Olá\n"
     ]
    }
   ],
   "source": [
    "diga_ola()"
   ]
  },
  {
   "cell_type": "code",
   "execution_count": 6,
   "id": "7c50b9f3-4e58-407a-9587-40452cad8215",
   "metadata": {},
   "outputs": [],
   "source": [
    "def soma(num1,num2):\n",
    "    return num1+num2"
   ]
  },
  {
   "cell_type": "code",
   "execution_count": 8,
   "id": "1ddde065-5677-4332-8e5d-688346ccc4cd",
   "metadata": {},
   "outputs": [
    {
     "data": {
      "text/plain": [
       "3"
      ]
     },
     "execution_count": 8,
     "metadata": {},
     "output_type": "execute_result"
    }
   ],
   "source": [
    "soma(1, 2)"
   ]
  },
  {
   "cell_type": "code",
   "execution_count": 16,
   "id": "7817d672-1571-4021-b2ff-07837fe635ca",
   "metadata": {},
   "outputs": [],
   "source": [
    "def impares(x):\n",
    "    return [i for i in range(x) if i % 2 == 1]"
   ]
  },
  {
   "cell_type": "code",
   "execution_count": 18,
   "id": "fe22d1e8-48cc-42b1-b8a7-0f273639e72d",
   "metadata": {},
   "outputs": [
    {
     "data": {
      "text/plain": [
       "[1, 3, 5, 7, 9]"
      ]
     },
     "execution_count": 18,
     "metadata": {},
     "output_type": "execute_result"
    }
   ],
   "source": [
    "impares(10)"
   ]
  },
  {
   "cell_type": "code",
   "execution_count": null,
   "id": "fef1f6d2-9c92-4396-9678-2cb4edd6c09b",
   "metadata": {},
   "outputs": [],
   "source": []
  }
 ],
 "metadata": {
  "kernelspec": {
   "display_name": "Python 3 (ipykernel)",
   "language": "python",
   "name": "python3"
  },
  "language_info": {
   "codemirror_mode": {
    "name": "ipython",
    "version": 3
   },
   "file_extension": ".py",
   "mimetype": "text/x-python",
   "name": "python",
   "nbconvert_exporter": "python",
   "pygments_lexer": "ipython3",
   "version": "3.12.4"
  }
 },
 "nbformat": 4,
 "nbformat_minor": 5
}
