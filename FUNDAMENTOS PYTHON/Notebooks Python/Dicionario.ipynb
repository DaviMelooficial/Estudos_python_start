{
 "cells": [
  {
   "cell_type": "markdown",
   "id": "106d1aed-000f-4e46-a120-47a75a5565b3",
   "metadata": {},
   "source": [
    "## Dicionario\n",
    "### É uma lista que é acessada pelo seu nome e não pelo índice \"número\"\n",
    "### sintaxe:\n",
    "Nome_dicionario = {\"nome_do_valor\": \"valor\"}"
   ]
  },
  {
   "cell_type": "code",
   "execution_count": 2,
   "id": "097696a1-dce9-4b6d-8a9a-6071a60844b5",
   "metadata": {},
   "outputs": [],
   "source": [
    "meu_dicionario = {\"Nome\": \"Davi\", \"Idade\": 21, \"Cargo\": \"Assistente\"}"
   ]
  },
  {
   "cell_type": "code",
   "execution_count": 4,
   "id": "4c4cc941-be56-4a83-a1bf-5d1c7726772e",
   "metadata": {},
   "outputs": [
    {
     "data": {
      "text/plain": [
       "{'Nome': 'Davi', 'Idade': 21, 'Cargo': 'Assistente'}"
      ]
     },
     "execution_count": 4,
     "metadata": {},
     "output_type": "execute_result"
    }
   ],
   "source": [
    "meu_dicionario"
   ]
  },
  {
   "cell_type": "code",
   "execution_count": 10,
   "id": "a4546cd3-4115-45af-8894-20281c258b53",
   "metadata": {},
   "outputs": [
    {
     "data": {
      "text/plain": [
       "'Davi'"
      ]
     },
     "execution_count": 10,
     "metadata": {},
     "output_type": "execute_result"
    }
   ],
   "source": [
    "meu_dicionario[\"Nome\"]"
   ]
  },
  {
   "cell_type": "code",
   "execution_count": 12,
   "id": "28405351-1e89-4337-a6f1-7e2062c52b4a",
   "metadata": {},
   "outputs": [],
   "source": [
    "meu_dicionario[\"Namorada\"] = \"Jayanne\""
   ]
  },
  {
   "cell_type": "code",
   "execution_count": 21,
   "id": "ca45da62-1c1d-47e5-8c04-0a874fe3a69c",
   "metadata": {},
   "outputs": [
    {
     "data": {
      "text/plain": [
       "{'Nome': 'Davi', 'Idade': 21, 'Cargo': 'Assistente', 'Namorada': 'Jayanne'}"
      ]
     },
     "execution_count": 21,
     "metadata": {},
     "output_type": "execute_result"
    }
   ],
   "source": [
    "meu_dicionario"
   ]
  },
  {
   "cell_type": "code",
   "execution_count": 23,
   "id": "6808cf5d-3da9-4f52-bdaa-26f3edbaa1cc",
   "metadata": {},
   "outputs": [],
   "source": [
    "meu_dicionario[\"Carteira\"] = [\"PETR4\", \"BBDC4\"]"
   ]
  },
  {
   "cell_type": "code",
   "execution_count": 25,
   "id": "a42d6bc2-2c17-440a-8d58-242b492634a9",
   "metadata": {},
   "outputs": [
    {
     "data": {
      "text/plain": [
       "{'Nome': 'Davi',\n",
       " 'Idade': 21,\n",
       " 'Cargo': 'Assistente',\n",
       " 'Namorada': 'Jayanne',\n",
       " 'Carteira': ['PETR4', 'BBDC4']}"
      ]
     },
     "execution_count": 25,
     "metadata": {},
     "output_type": "execute_result"
    }
   ],
   "source": [
    "meu_dicionario"
   ]
  },
  {
   "cell_type": "markdown",
   "id": "bddc0a1e-183d-4c6c-8cdc-ebf9f8742a20",
   "metadata": {},
   "source": [
    "### Métodos com dicionario"
   ]
  },
  {
   "cell_type": "code",
   "execution_count": 29,
   "id": "61171b92-6a6c-4082-8a37-8f895d6d1e51",
   "metadata": {},
   "outputs": [
    {
     "data": {
      "text/plain": [
       "dict_keys(['Nome', 'Idade', 'Cargo', 'Namorada', 'Carteira'])"
      ]
     },
     "execution_count": 29,
     "metadata": {},
     "output_type": "execute_result"
    }
   ],
   "source": [
    "meu_dicionario.keys()"
   ]
  },
  {
   "cell_type": "code",
   "execution_count": 34,
   "id": "a77cdedb-a347-4e6a-89ce-3cd655fbebe4",
   "metadata": {},
   "outputs": [
    {
     "data": {
      "text/plain": [
       "dict_values(['Davi', 21, 'Assistente', 'Jayanne', ['PETR4', 'BBDC4']])"
      ]
     },
     "execution_count": 34,
     "metadata": {},
     "output_type": "execute_result"
    }
   ],
   "source": [
    "meu_dicionario.values()"
   ]
  },
  {
   "cell_type": "code",
   "execution_count": 36,
   "id": "bef5402f-ae40-4b0a-a9fa-c2331bc60c43",
   "metadata": {},
   "outputs": [
    {
     "data": {
      "text/plain": [
       "dict_items([('Nome', 'Davi'), ('Idade', 21), ('Cargo', 'Assistente'), ('Namorada', 'Jayanne'), ('Carteira', ['PETR4', 'BBDC4'])])"
      ]
     },
     "execution_count": 36,
     "metadata": {},
     "output_type": "execute_result"
    }
   ],
   "source": [
    "meu_dicionario.items()"
   ]
  }
 ],
 "metadata": {
  "kernelspec": {
   "display_name": "Python 3 (ipykernel)",
   "language": "python",
   "name": "python3"
  },
  "language_info": {
   "codemirror_mode": {
    "name": "ipython",
    "version": 3
   },
   "file_extension": ".py",
   "mimetype": "text/x-python",
   "name": "python",
   "nbconvert_exporter": "python",
   "pygments_lexer": "ipython3",
   "version": "3.12.4"
  }
 },
 "nbformat": 4,
 "nbformat_minor": 5
}
