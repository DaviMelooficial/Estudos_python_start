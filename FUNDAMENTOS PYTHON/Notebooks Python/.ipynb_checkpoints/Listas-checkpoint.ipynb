{
 "cells": [
  {
   "cell_type": "markdown",
   "id": "36e148c0-8a11-463e-a796-09fab1ea97d7",
   "metadata": {},
   "source": [
    "## Listas"
   ]
  },
  {
   "cell_type": "code",
   "execution_count": 2,
   "id": "b1d84ccf-4c1a-4cf9-8dcf-90cf263d1315",
   "metadata": {},
   "outputs": [],
   "source": [
    "minha_lista = [1, 2, 3]"
   ]
  },
  {
   "cell_type": "code",
   "execution_count": 4,
   "id": "812a0423-278f-44b7-ae2f-07574f180d99",
   "metadata": {},
   "outputs": [
    {
     "data": {
      "text/plain": [
       "list"
      ]
     },
     "execution_count": 4,
     "metadata": {},
     "output_type": "execute_result"
    }
   ],
   "source": [
    "type(minha_lista)"
   ]
  },
  {
   "cell_type": "code",
   "execution_count": 6,
   "id": "cc28b86f-d91f-47f6-9c1d-ab695cf61bdf",
   "metadata": {},
   "outputs": [
    {
     "data": {
      "text/plain": [
       "3"
      ]
     },
     "execution_count": 6,
     "metadata": {},
     "output_type": "execute_result"
    }
   ],
   "source": [
    "minha_lista[2]"
   ]
  },
  {
   "cell_type": "code",
   "execution_count": 8,
   "id": "dac88b73-ebb2-48d5-88d8-d86eac6918fd",
   "metadata": {},
   "outputs": [
    {
     "data": {
      "text/plain": [
       "[2]"
      ]
     },
     "execution_count": 8,
     "metadata": {},
     "output_type": "execute_result"
    }
   ],
   "source": [
    "minha_lista[1:-1]"
   ]
  },
  {
   "cell_type": "code",
   "execution_count": 12,
   "id": "8c2017b4-44cf-47fb-88ae-237d047649cc",
   "metadata": {},
   "outputs": [],
   "source": [
    "lista_mix =  [1, \"dois\", [3, 4, 5]]"
   ]
  },
  {
   "cell_type": "code",
   "execution_count": 14,
   "id": "89606fcb-22e0-4335-a227-10e577d4bf94",
   "metadata": {},
   "outputs": [
    {
     "data": {
      "text/plain": [
       "[3, 4, 5]"
      ]
     },
     "execution_count": 14,
     "metadata": {},
     "output_type": "execute_result"
    }
   ],
   "source": [
    "lista_mix[2]"
   ]
  },
  {
   "cell_type": "code",
   "execution_count": 22,
   "id": "29c63dee-6d6b-4005-9cc1-3adf812554c0",
   "metadata": {},
   "outputs": [
    {
     "data": {
      "text/plain": [
       "[3, 4]"
      ]
     },
     "execution_count": 22,
     "metadata": {},
     "output_type": "execute_result"
    }
   ],
   "source": [
    "lista_mix[2][0:2]"
   ]
  },
  {
   "cell_type": "markdown",
   "id": "c5c0b08e-e9fe-4842-ab07-0da25d860fbd",
   "metadata": {},
   "source": [
    "### Métodos básicos de listas"
   ]
  },
  {
   "cell_type": "code",
   "execution_count": 43,
   "id": "51a86126-0c32-43f7-bdd0-8f0f891ae485",
   "metadata": {},
   "outputs": [],
   "source": [
    "L = [1, 2, 3]"
   ]
  },
  {
   "cell_type": "code",
   "execution_count": 45,
   "id": "e3f3a9c5-bb6a-46e1-a8fe-83313274abff",
   "metadata": {},
   "outputs": [],
   "source": [
    "L.append(\"4\")"
   ]
  },
  {
   "cell_type": "code",
   "execution_count": 47,
   "id": "9b73fcba-6d1e-492b-b9b2-da904b168c84",
   "metadata": {},
   "outputs": [
    {
     "data": {
      "text/plain": [
       "[1, 2, 3, '4']"
      ]
     },
     "execution_count": 47,
     "metadata": {},
     "output_type": "execute_result"
    }
   ],
   "source": [
    "L"
   ]
  },
  {
   "cell_type": "code",
   "execution_count": 49,
   "id": "97009ab8-9b12-4055-874a-9f5fe95e045a",
   "metadata": {},
   "outputs": [
    {
     "data": {
      "text/plain": [
       "'4'"
      ]
     },
     "execution_count": 49,
     "metadata": {},
     "output_type": "execute_result"
    }
   ],
   "source": [
    "L.pop()"
   ]
  },
  {
   "cell_type": "code",
   "execution_count": 51,
   "id": "041fe16a-5c33-45f1-8b6b-900dfa63253b",
   "metadata": {},
   "outputs": [
    {
     "data": {
      "text/plain": [
       "[1, 2, 3]"
      ]
     },
     "execution_count": 51,
     "metadata": {},
     "output_type": "execute_result"
    }
   ],
   "source": [
    "L"
   ]
  },
  {
   "cell_type": "code",
   "execution_count": 53,
   "id": "94601ece-444d-4b11-875e-e48d78856d45",
   "metadata": {},
   "outputs": [],
   "source": [
    "L.reverse()"
   ]
  },
  {
   "cell_type": "code",
   "execution_count": 55,
   "id": "a382d89a-002e-431c-9617-8f648522d9f3",
   "metadata": {},
   "outputs": [
    {
     "data": {
      "text/plain": [
       "[3, 2, 1]"
      ]
     },
     "execution_count": 55,
     "metadata": {},
     "output_type": "execute_result"
    }
   ],
   "source": [
    "L"
   ]
  },
  {
   "cell_type": "code",
   "execution_count": 57,
   "id": "cef82f22-c98d-4baa-9be9-040c2859d3f3",
   "metadata": {},
   "outputs": [],
   "source": [
    "L.sort()"
   ]
  },
  {
   "cell_type": "code",
   "execution_count": 59,
   "id": "9678645a-1434-4bd6-8393-01439b0da26f",
   "metadata": {},
   "outputs": [
    {
     "data": {
      "text/plain": [
       "[1, 2, 3]"
      ]
     },
     "execution_count": 59,
     "metadata": {},
     "output_type": "execute_result"
    }
   ],
   "source": [
    "L"
   ]
  },
  {
   "cell_type": "code",
   "execution_count": 67,
   "id": "e9a4ba32-f400-4052-a4ba-3a0f95b3b191",
   "metadata": {},
   "outputs": [],
   "source": [
    "lista_1 = [1, 2, 3]\n",
    "lista_2 = [4, 5, 6]\n",
    "lista_3 = [7, 8, 9]"
   ]
  },
  {
   "cell_type": "code",
   "execution_count": 69,
   "id": "b9d82b18-85c7-4c5e-a019-c428e50f44d4",
   "metadata": {},
   "outputs": [],
   "source": [
    "LISTA_ANINHADA = [lista_1, lista_2, lista_3]"
   ]
  },
  {
   "cell_type": "code",
   "execution_count": 71,
   "id": "d8da8957-6e13-4c01-b8d7-44cfffd1c484",
   "metadata": {},
   "outputs": [
    {
     "data": {
      "text/plain": [
       "[[1, 2, 3], [4, 5, 6], [7, 8, 9]]"
      ]
     },
     "execution_count": 71,
     "metadata": {},
     "output_type": "execute_result"
    }
   ],
   "source": [
    "LISTA_ANINHADA"
   ]
  },
  {
   "cell_type": "code",
   "execution_count": 77,
   "id": "2b236626-78f3-49cb-b9b0-7f03da012245",
   "metadata": {},
   "outputs": [
    {
     "data": {
      "text/plain": [
       "1"
      ]
     },
     "execution_count": 77,
     "metadata": {},
     "output_type": "execute_result"
    }
   ],
   "source": [
    "LISTA_ANINHADA[0][0]"
   ]
  }
 ],
 "metadata": {
  "kernelspec": {
   "display_name": "Python 3 (ipykernel)",
   "language": "python",
   "name": "python3"
  },
  "language_info": {
   "codemirror_mode": {
    "name": "ipython",
    "version": 3
   },
   "file_extension": ".py",
   "mimetype": "text/x-python",
   "name": "python",
   "nbconvert_exporter": "python",
   "pygments_lexer": "ipython3",
   "version": "3.12.4"
  }
 },
 "nbformat": 4,
 "nbformat_minor": 5
}
