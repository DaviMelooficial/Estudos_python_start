{
 "cells": [
  {
   "cell_type": "markdown",
   "id": "32dfa0ec-7dc4-45dc-b84c-c38d191d9b4f",
   "metadata": {},
   "source": [
    "## TUPLAS\n",
    "### Tuplas são listas imutáveis, são acessadas como listas"
   ]
  },
  {
   "cell_type": "code",
   "execution_count": 3,
   "id": "91647752-b30e-4234-8e90-feadb4fc783f",
   "metadata": {},
   "outputs": [],
   "source": [
    "Tupla = (1, 2, 3)"
   ]
  },
  {
   "cell_type": "code",
   "execution_count": 5,
   "id": "ba095dc2-428c-4ac5-aa07-42283dd08ebe",
   "metadata": {},
   "outputs": [
    {
     "data": {
      "text/plain": [
       "2"
      ]
     },
     "execution_count": 5,
     "metadata": {},
     "output_type": "execute_result"
    }
   ],
   "source": [
    "Tupla[1]"
   ]
  },
  {
   "cell_type": "code",
   "execution_count": 7,
   "id": "8a38248c-9ff0-42ea-b749-da570ed36546",
   "metadata": {},
   "outputs": [
    {
     "data": {
      "text/plain": [
       "3"
      ]
     },
     "execution_count": 7,
     "metadata": {},
     "output_type": "execute_result"
    }
   ],
   "source": [
    "Tupla[-1]"
   ]
  },
  {
   "cell_type": "code",
   "execution_count": 9,
   "id": "118aad40-203a-42cb-b709-f94ffc1ba988",
   "metadata": {},
   "outputs": [],
   "source": [
    "a, b = (1, 2)"
   ]
  },
  {
   "cell_type": "code",
   "execution_count": 11,
   "id": "5a7ac9b8-27f0-4531-9b27-f70c5ae0eb31",
   "metadata": {},
   "outputs": [
    {
     "data": {
      "text/plain": [
       "1"
      ]
     },
     "execution_count": 11,
     "metadata": {},
     "output_type": "execute_result"
    }
   ],
   "source": [
    "a"
   ]
  },
  {
   "cell_type": "code",
   "execution_count": 15,
   "id": "ee88aa65-730b-4e6d-8c80-a74b642788b4",
   "metadata": {},
   "outputs": [
    {
     "data": {
      "text/plain": [
       "2"
      ]
     },
     "execution_count": 15,
     "metadata": {},
     "output_type": "execute_result"
    }
   ],
   "source": [
    "b"
   ]
  }
 ],
 "metadata": {
  "kernelspec": {
   "display_name": "Python 3 (ipykernel)",
   "language": "python",
   "name": "python3"
  },
  "language_info": {
   "codemirror_mode": {
    "name": "ipython",
    "version": 3
   },
   "file_extension": ".py",
   "mimetype": "text/x-python",
   "name": "python",
   "nbconvert_exporter": "python",
   "pygments_lexer": "ipython3",
   "version": "3.12.4"
  }
 },
 "nbformat": 4,
 "nbformat_minor": 5
}
