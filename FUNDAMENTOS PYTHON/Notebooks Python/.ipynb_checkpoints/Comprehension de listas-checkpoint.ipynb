{
 "cells": [
  {
   "cell_type": "markdown",
   "id": "b0ce0e4e-9adb-4be3-b1da-b166f7a6ad39",
   "metadata": {},
   "source": [
    "## Compreensão em listas"
   ]
  },
  {
   "cell_type": "code",
   "execution_count": 16,
   "id": "5f825a30-bb2a-4b16-8212-719f597d5912",
   "metadata": {},
   "outputs": [],
   "source": [
    "word = \"1234\""
   ]
  },
  {
   "cell_type": "code",
   "execution_count": 18,
   "id": "4464ed21-84a5-4459-9628-db9f11fa1262",
   "metadata": {},
   "outputs": [],
   "source": [
    "list_words = []\n",
    "for w in word:\n",
    "    list_words.append(w)"
   ]
  },
  {
   "cell_type": "code",
   "execution_count": 20,
   "id": "0119f517-8794-4273-8882-b61e1a8d84c3",
   "metadata": {},
   "outputs": [
    {
     "data": {
      "text/plain": [
       "['1', '2', '3', '4']"
      ]
     },
     "execution_count": 20,
     "metadata": {},
     "output_type": "execute_result"
    }
   ],
   "source": [
    "list_words"
   ]
  },
  {
   "cell_type": "code",
   "execution_count": 22,
   "id": "cef7c012-cc85-4e29-a585-2487ccd00c57",
   "metadata": {},
   "outputs": [],
   "source": [
    "list_words = [w for w in word]"
   ]
  },
  {
   "cell_type": "code",
   "execution_count": 26,
   "id": "73282c0f-fc20-4bfe-9d84-8ff6cfd4795e",
   "metadata": {},
   "outputs": [
    {
     "data": {
      "text/plain": [
       "['1', '2', '3', '4']"
      ]
     },
     "execution_count": 26,
     "metadata": {},
     "output_type": "execute_result"
    }
   ],
   "source": [
    "list_words"
   ]
  },
  {
   "cell_type": "code",
   "execution_count": 34,
   "id": "59ecedf8-abee-4e85-973a-ceb04e471924",
   "metadata": {},
   "outputs": [],
   "source": [
    "list_words = [x**2 for x in range(40) if x % 2 == 0]"
   ]
  },
  {
   "cell_type": "code",
   "execution_count": 36,
   "id": "4e3e7487-cbf6-4883-8ff0-d924e0f99f8b",
   "metadata": {},
   "outputs": [
    {
     "data": {
      "text/plain": [
       "[0,\n",
       " 4,\n",
       " 16,\n",
       " 36,\n",
       " 64,\n",
       " 100,\n",
       " 144,\n",
       " 196,\n",
       " 256,\n",
       " 324,\n",
       " 400,\n",
       " 484,\n",
       " 576,\n",
       " 676,\n",
       " 784,\n",
       " 900,\n",
       " 1024,\n",
       " 1156,\n",
       " 1296,\n",
       " 1444]"
      ]
     },
     "execution_count": 36,
     "metadata": {},
     "output_type": "execute_result"
    }
   ],
   "source": [
    "list_words"
   ]
  },
  {
   "cell_type": "code",
   "execution_count": null,
   "id": "3c7f22df-b241-4344-a3a3-c95b58856d7c",
   "metadata": {},
   "outputs": [],
   "source": []
  }
 ],
 "metadata": {
  "kernelspec": {
   "display_name": "Python 3 (ipykernel)",
   "language": "python",
   "name": "python3"
  },
  "language_info": {
   "codemirror_mode": {
    "name": "ipython",
    "version": 3
   },
   "file_extension": ".py",
   "mimetype": "text/x-python",
   "name": "python",
   "nbconvert_exporter": "python",
   "pygments_lexer": "ipython3",
   "version": "3.12.4"
  }
 },
 "nbformat": 4,
 "nbformat_minor": 5
}
