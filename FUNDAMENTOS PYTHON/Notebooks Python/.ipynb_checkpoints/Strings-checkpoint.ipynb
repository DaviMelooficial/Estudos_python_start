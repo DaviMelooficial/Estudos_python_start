{
 "cells": [
  {
   "cell_type": "markdown",
   "id": "476c1e84-7341-4718-913a-17eaabb34c71",
   "metadata": {},
   "source": [
    "## Strings e suas funções"
   ]
  },
  {
   "cell_type": "code",
   "execution_count": 2,
   "id": "1033d74a-2a8e-4cf2-add7-2f5d63ff5548",
   "metadata": {},
   "outputs": [],
   "source": [
    "minha_string = \"HELLO WORLD\""
   ]
  },
  {
   "cell_type": "markdown",
   "id": "9f6f20bb-fee5-47d2-9332-c610007736a0",
   "metadata": {},
   "source": [
    "### É possível acessar componentes de uma string como array, mas não é possível alterar componentes específicos"
   ]
  },
  {
   "cell_type": "code",
   "execution_count": 6,
   "id": "5c2715f4-bff3-454e-9d40-42ee53e2e85e",
   "metadata": {},
   "outputs": [
    {
     "data": {
      "text/plain": [
       "'E'"
      ]
     },
     "execution_count": 6,
     "metadata": {},
     "output_type": "execute_result"
    }
   ],
   "source": [
    "minha_string[1]"
   ]
  },
  {
   "cell_type": "code",
   "execution_count": 10,
   "id": "a78d1467-3757-4d9d-be7d-2c73e05032e0",
   "metadata": {},
   "outputs": [
    {
     "data": {
      "text/plain": [
       "'HE'"
      ]
     },
     "execution_count": 10,
     "metadata": {},
     "output_type": "execute_result"
    }
   ],
   "source": [
    "minha_string[:2]"
   ]
  },
  {
   "cell_type": "code",
   "execution_count": 12,
   "id": "b260eab3-1e65-4b02-ad4c-80f2360a4d1b",
   "metadata": {},
   "outputs": [
    {
     "data": {
      "text/plain": [
       "'HELLO'"
      ]
     },
     "execution_count": 12,
     "metadata": {},
     "output_type": "execute_result"
    }
   ],
   "source": [
    "minha_string[0:5]"
   ]
  },
  {
   "cell_type": "code",
   "execution_count": 26,
   "id": "d9c7fb29-12c0-4500-9472-8edb92e3264f",
   "metadata": {},
   "outputs": [
    {
     "data": {
      "text/plain": [
       "'HELLO'"
      ]
     },
     "execution_count": 26,
     "metadata": {},
     "output_type": "execute_result"
    }
   ],
   "source": [
    "minha_string[:-6]"
   ]
  },
  {
   "cell_type": "code",
   "execution_count": 34,
   "id": "91e817d9-e6e5-4b1c-a3a3-fc2ae64cd7d7",
   "metadata": {},
   "outputs": [
    {
     "data": {
      "text/plain": [
       "'HELLO WORLD; HELLO WORLD; HELLO WORLD; HELLO WORLD; HELLO WORLD; '"
      ]
     },
     "execution_count": 34,
     "metadata": {},
     "output_type": "execute_result"
    }
   ],
   "source": [
    "(minha_string + \"; \") * 5"
   ]
  },
  {
   "cell_type": "markdown",
   "id": "1bd7989c-8f60-4d36-a743-b2d4831fbead",
   "metadata": {},
   "source": [
    "## Métodos para trabalhar com strings"
   ]
  },
  {
   "cell_type": "code",
   "execution_count": 36,
   "id": "8489f87a-e897-468d-9b86-6296d8d4ee11",
   "metadata": {},
   "outputs": [
    {
     "data": {
      "text/plain": [
       "['__add__',\n",
       " '__class__',\n",
       " '__contains__',\n",
       " '__delattr__',\n",
       " '__dir__',\n",
       " '__doc__',\n",
       " '__eq__',\n",
       " '__format__',\n",
       " '__ge__',\n",
       " '__getattribute__',\n",
       " '__getitem__',\n",
       " '__getnewargs__',\n",
       " '__getstate__',\n",
       " '__gt__',\n",
       " '__hash__',\n",
       " '__init__',\n",
       " '__init_subclass__',\n",
       " '__iter__',\n",
       " '__le__',\n",
       " '__len__',\n",
       " '__lt__',\n",
       " '__mod__',\n",
       " '__mul__',\n",
       " '__ne__',\n",
       " '__new__',\n",
       " '__reduce__',\n",
       " '__reduce_ex__',\n",
       " '__repr__',\n",
       " '__rmod__',\n",
       " '__rmul__',\n",
       " '__setattr__',\n",
       " '__sizeof__',\n",
       " '__str__',\n",
       " '__subclasshook__',\n",
       " 'capitalize',\n",
       " 'casefold',\n",
       " 'center',\n",
       " 'count',\n",
       " 'encode',\n",
       " 'endswith',\n",
       " 'expandtabs',\n",
       " 'find',\n",
       " 'format',\n",
       " 'format_map',\n",
       " 'index',\n",
       " 'isalnum',\n",
       " 'isalpha',\n",
       " 'isascii',\n",
       " 'isdecimal',\n",
       " 'isdigit',\n",
       " 'isidentifier',\n",
       " 'islower',\n",
       " 'isnumeric',\n",
       " 'isprintable',\n",
       " 'isspace',\n",
       " 'istitle',\n",
       " 'isupper',\n",
       " 'join',\n",
       " 'ljust',\n",
       " 'lower',\n",
       " 'lstrip',\n",
       " 'maketrans',\n",
       " 'partition',\n",
       " 'removeprefix',\n",
       " 'removesuffix',\n",
       " 'replace',\n",
       " 'rfind',\n",
       " 'rindex',\n",
       " 'rjust',\n",
       " 'rpartition',\n",
       " 'rsplit',\n",
       " 'rstrip',\n",
       " 'split',\n",
       " 'splitlines',\n",
       " 'startswith',\n",
       " 'strip',\n",
       " 'swapcase',\n",
       " 'title',\n",
       " 'translate',\n",
       " 'upper',\n",
       " 'zfill']"
      ]
     },
     "execution_count": 36,
     "metadata": {},
     "output_type": "execute_result"
    }
   ],
   "source": [
    "dir(\"hello\")"
   ]
  },
  {
   "cell_type": "code",
   "execution_count": 46,
   "id": "0d3eba29-085c-4398-9922-cb48891861b6",
   "metadata": {},
   "outputs": [
    {
     "data": {
      "text/plain": [
       "'hello world'"
      ]
     },
     "execution_count": 46,
     "metadata": {},
     "output_type": "execute_result"
    }
   ],
   "source": [
    "minha_string.lower()"
   ]
  },
  {
   "cell_type": "code",
   "execution_count": 48,
   "id": "fe475def-2796-4b03-b2b9-a586df34487f",
   "metadata": {},
   "outputs": [
    {
     "data": {
      "text/plain": [
       "'HELLO WORLD'"
      ]
     },
     "execution_count": 48,
     "metadata": {},
     "output_type": "execute_result"
    }
   ],
   "source": [
    "minha_string.upper()"
   ]
  },
  {
   "cell_type": "code",
   "execution_count": 50,
   "id": "297cf0c1-17d0-4f77-ac2d-141e825f7fca",
   "metadata": {},
   "outputs": [
    {
     "data": {
      "text/plain": [
       "['HELLO', 'WORLD']"
      ]
     },
     "execution_count": 50,
     "metadata": {},
     "output_type": "execute_result"
    }
   ],
   "source": [
    "minha_string.split(\" \")"
   ]
  },
  {
   "cell_type": "code",
   "execution_count": 58,
   "id": "c6a58ea5-988c-43b3-9fa7-2a9c45a79968",
   "metadata": {},
   "outputs": [
    {
     "data": {
      "text/plain": [
       "'Meu nome é Davi e tenho 21 anos'"
      ]
     },
     "execution_count": 58,
     "metadata": {},
     "output_type": "execute_result"
    }
   ],
   "source": [
    "nome = \"Davi\"\n",
    "idade = 21\n",
    "\"Meu nome é {} e tenho {} anos\".format(nome, idade)"
   ]
  },
  {
   "cell_type": "code",
   "execution_count": 24,
   "id": "c78b2190-00c9-4ffc-a644-947a47bc7b58",
   "metadata": {},
   "outputs": [
    {
     "name": "stdin",
     "output_type": "stream",
     "text": [
      " abc\n"
     ]
    },
    {
     "name": "stdout",
     "output_type": "stream",
     "text": [
      "cba\n"
     ]
    }
   ],
   "source": [
    "def REVERTE_PALAVRA(palavra):\n",
    "    return palavra [::-1]\n",
    "\n",
    "palavra = input().lower()\n",
    "print(REVERTE_PALAVRA(palavra))"
   ]
  },
  {
   "cell_type": "code",
   "execution_count": null,
   "id": "2c41b08d-5eab-4ad8-9025-3f5f488b1a88",
   "metadata": {},
   "outputs": [],
   "source": []
  }
 ],
 "metadata": {
  "kernelspec": {
   "display_name": "Python 3 (ipykernel)",
   "language": "python",
   "name": "python3"
  },
  "language_info": {
   "codemirror_mode": {
    "name": "ipython",
    "version": 3
   },
   "file_extension": ".py",
   "mimetype": "text/x-python",
   "name": "python",
   "nbconvert_exporter": "python",
   "pygments_lexer": "ipython3",
   "version": "3.12.4"
  }
 },
 "nbformat": 4,
 "nbformat_minor": 5
}
