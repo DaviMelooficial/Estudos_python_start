{
 "cells": [
  {
   "cell_type": "markdown",
   "id": "5b84d35a-07dd-492d-8e5d-4b23eb9fc2d0",
   "metadata": {},
   "source": [
    " ## VARIÁVEIS\n"
   ]
  },
  {
   "cell_type": "code",
   "execution_count": 3,
   "id": "35e60671-9c22-47e3-850b-968f2b4267a3",
   "metadata": {},
   "outputs": [],
   "source": [
    "A = 5"
   ]
  },
  {
   "cell_type": "code",
   "execution_count": 5,
   "id": "04667997-3b1b-4e67-a118-8f0e74671c5c",
   "metadata": {},
   "outputs": [
    {
     "data": {
      "text/plain": [
       "5"
      ]
     },
     "execution_count": 5,
     "metadata": {},
     "output_type": "execute_result"
    }
   ],
   "source": [
    "A "
   ]
  },
  {
   "cell_type": "markdown",
   "id": "be1b755a-90af-4ded-95eb-5b8e6e70e20f",
   "metadata": {},
   "source": [
    "### 1 - NÃO PODEM COMEÇAR COM NÚMEROS\n",
    "\n",
    "123_A = 5 \n",
    "\n",
    "### 2 - NÃO PODEM CONTER ESPAÇOS\n",
    "\n",
    "num A = 5\n",
    "\n",
    "### 3 - NÃO PODEM COMEÇAR COM CARACTERES ESPECIAIS\n",
    "\n",
    "#A = 5"
   ]
  },
  {
   "cell_type": "markdown",
   "id": "2c22b627-dd3e-45b8-8be2-51c8b32deef8",
   "metadata": {},
   "source": []
  }
 ],
 "metadata": {
  "kernelspec": {
   "display_name": "Python 3 (ipykernel)",
   "language": "python",
   "name": "python3"
  },
  "language_info": {
   "codemirror_mode": {
    "name": "ipython",
    "version": 3
   },
   "file_extension": ".py",
   "mimetype": "text/x-python",
   "name": "python",
   "nbconvert_exporter": "python",
   "pygments_lexer": "ipython3",
   "version": "3.12.4"
  }
 },
 "nbformat": 4,
 "nbformat_minor": 5
}
