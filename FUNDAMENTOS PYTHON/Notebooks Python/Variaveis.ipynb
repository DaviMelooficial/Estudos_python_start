{
 "cells": [
  {
   "cell_type": "markdown",
   "id": "5b84d35a-07dd-492d-8e5d-4b23eb9fc2d0",
   "metadata": {},
   "source": [
    " ## VARIÁVEIS\n"
   ]
  },
  {
   "cell_type": "markdown",
   "id": "be1b755a-90af-4ded-95eb-5b8e6e70e20f",
   "metadata": {},
   "source": [
    "### 1 - NÃO PODEM COMEÇAR COM NÚMEROS\n",
    "\n",
    "123_A = 5 \n",
    "\n",
    "### 2 - NÃO PODEM CONTER ESPAÇOS\n",
    "\n",
    "num A = 5\n",
    "\n",
    "### 3 - NÃO PODEM COMEÇAR COM CARACTERES ESPECIAIS\n",
    "\n",
    "#A = 5"
   ]
  },
  {
   "cell_type": "code",
   "execution_count": 3,
   "id": "35e60671-9c22-47e3-850b-968f2b4267a3",
   "metadata": {},
   "outputs": [],
   "source": [
    "A = 5"
   ]
  },
  {
   "cell_type": "code",
   "execution_count": 4,
   "id": "e3cc91ec-133f-4603-9619-16cc83d4bd7a",
   "metadata": {},
   "outputs": [],
   "source": [
    "var_1 = 5"
   ]
  },
  {
   "cell_type": "code",
   "execution_count": 11,
   "id": "0c2a1db0-6370-44a8-97ef-648446e9f589",
   "metadata": {},
   "outputs": [],
   "source": [
    "var_2 = 5"
   ]
  },
  {
   "cell_type": "code",
   "execution_count": 13,
   "id": "318360e6-507b-4037-ad78-a51c8b0e3358",
   "metadata": {},
   "outputs": [],
   "source": [
    "var_3 = var_1 + var_2"
   ]
  },
  {
   "cell_type": "code",
   "execution_count": 15,
   "id": "c0c03ffe-430d-4d65-92e5-69027cd0cc7f",
   "metadata": {},
   "outputs": [
    {
     "data": {
      "text/plain": [
       "10"
      ]
     },
     "execution_count": 15,
     "metadata": {},
     "output_type": "execute_result"
    }
   ],
   "source": [
    "var_3"
   ]
  }
 ],
 "metadata": {
  "kernelspec": {
   "display_name": "Python 3 (ipykernel)",
   "language": "python",
   "name": "python3"
  },
  "language_info": {
   "codemirror_mode": {
    "name": "ipython",
    "version": 3
   },
   "file_extension": ".py",
   "mimetype": "text/x-python",
   "name": "python",
   "nbconvert_exporter": "python",
   "pygments_lexer": "ipython3",
   "version": "3.12.4"
  }
 },
 "nbformat": 4,
 "nbformat_minor": 5
}
