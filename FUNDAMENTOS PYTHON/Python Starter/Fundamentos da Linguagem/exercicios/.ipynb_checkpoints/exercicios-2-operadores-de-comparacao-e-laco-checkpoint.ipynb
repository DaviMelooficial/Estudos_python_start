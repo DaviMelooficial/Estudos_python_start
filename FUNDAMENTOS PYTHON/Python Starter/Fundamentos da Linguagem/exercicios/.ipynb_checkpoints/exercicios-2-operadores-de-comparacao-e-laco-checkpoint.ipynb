{
 "cells": [
  {
   "cell_type": "markdown",
   "metadata": {},
   "source": [
    "<img src=\"https://asimov.academy/wp-content/uploads/2021/01/logo.png\" width=\"200\"/>\n",
    "_____________________________________________\n",
    "\n",
    "## Exercícios #2 - Operadores de comparação e laços\n"
   ]
  },
  {
   "cell_type": "markdown",
   "metadata": {},
   "source": [
    "### Exercício 1\n",
    "Faça um programa para a leitura de duas notas parciais de um aluno. O programa deve calcular a média alcançada por aluno e apresentar:\n",
    "- A mensagem \"Aprovado\", se a média alcançada for maior ou igual a 7;\n",
    "- A mensagem \"Reprovado\", se a média for menor do que 7;\n",
    "- A mensagem \"Aprovado com Distinção\", se a média for igual a 10."
   ]
  },
  {
   "cell_type": "code",
   "execution_count": 24,
   "metadata": {},
   "outputs": [
    {
     "name": "stdout",
     "output_type": "stream",
     "text": [
      "Digite as duas notas do seu aluno:\n"
     ]
    },
    {
     "name": "stdin",
     "output_type": "stream",
     "text": [
      " 8\n",
      " 6\n"
     ]
    },
    {
     "name": "stdout",
     "output_type": "stream",
     "text": [
      "A méida de ele é 7.0\n"
     ]
    }
   ],
   "source": [
    "print(\"Digite as duas notas do seu aluno:\")\n",
    "\n",
    "nota_1 = float(input())\n",
    "nota_2 = float(input())\n",
    "\n",
    "def media(nota_1, nota_2):\n",
    "    return (nota_1 + nota_2) / 2\n",
    "\n",
    "nota_media = media(nota_1, nota_2)\n",
    "\n",
    "print(\"A méida de ele é {}\".format(nota_media))"
   ]
  },
  {
   "cell_type": "markdown",
   "metadata": {},
   "source": [
    "### Exercício 2\n",
    "Escreva um script que leia três números e mostre o maior e o menor deles."
   ]
  },
  {
   "cell_type": "code",
   "execution_count": 30,
   "metadata": {},
   "outputs": [
    {
     "name": "stdout",
     "output_type": "stream",
     "text": [
      "Escreva os 3 números de comparação:\n"
     ]
    },
    {
     "name": "stdin",
     "output_type": "stream",
     "text": [
      " 10\n",
      " 60\n",
      " 10\n"
     ]
    },
    {
     "name": "stdout",
     "output_type": "stream",
     "text": [
      "60.0 é o maior\n"
     ]
    }
   ],
   "source": [
    "print(\"Escreva os 3 números de comparação:\")\n",
    "\n",
    "num_1 = float(input())\n",
    "num_2 = float(input())\n",
    "num_3 = float(input())\n",
    "\n",
    "if num_1 > num_2 and num_1 > num_3:\n",
    "    print(\"{} é o maior\".format(num_1))\n",
    "elif num_2 > num_1 and num_2 > num_3:\n",
    "    print(\"{} é o maior\".format(num_2))\n",
    "else:\n",
    "    print(\"{} é o maior\".format(num_3))"
   ]
  },
  {
   "cell_type": "markdown",
   "metadata": {},
   "source": [
    "### Exercício 3 \n",
    "Nome na vertical em escada. \n",
    "\n",
    "F<br>\n",
    "FU<br>\n",
    "FUL<br>\n",
    "FULA<br>\n",
    "FULAN<br>\n",
    "FULANO<br>"
   ]
  },
  {
   "cell_type": "code",
   "execution_count": 36,
   "metadata": {},
   "outputs": [
    {
     "name": "stdout",
     "output_type": "stream",
     "text": [
      "Diga o seu nome:\n"
     ]
    },
    {
     "name": "stdin",
     "output_type": "stream",
     "text": [
      " Davi\n"
     ]
    },
    {
     "name": "stdout",
     "output_type": "stream",
     "text": [
      "['D']\n",
      "['D', 'a']\n",
      "['D', 'a', 'v']\n",
      "['D', 'a', 'v', 'i']\n"
     ]
    }
   ],
   "source": [
    "print(\"Diga o seu nome:\")\n",
    "nome = input()\n",
    "list_nome = []\n",
    "\n",
    "for i in nome:\n",
    "    list_nome.append(i)\n",
    "    print(list_nome)"
   ]
  },
  {
   "cell_type": "markdown",
   "metadata": {},
   "source": [
    "### Exercício 4\n",
    "A série de Fibonacci é formada pela seqüência 1,1,2,3,5,8,13,21,34,55,... (o próximo termo, a partir do terceiro, é sempre gerado a partir do somatório dos últimos dois). Faça um programa capaz de gerar a série até o n−ésimo termo (onde o valor n deve ser inserido pelo usuário)."
   ]
  },
  {
   "cell_type": "code",
   "execution_count": 62,
   "metadata": {},
   "outputs": [
    {
     "name": "stdin",
     "output_type": "stream",
     "text": [
      "Insira o valor de n para gerar a sequência de Fibonacci:  10\n"
     ]
    },
    {
     "name": "stdout",
     "output_type": "stream",
     "text": [
      "[1, 1, 2, 3, 5, 8, 13, 21, 34, 55]\n"
     ]
    }
   ],
   "source": [
    "def fibonacci(n):\n",
    "    fib_sequence = [1, 1]  # Iniciando a sequência com os dois primeiros termos\n",
    "\n",
    "    # Gerando a sequência até o n-ésimo termo\n",
    "    for i in range(2, n):\n",
    "        next_term = fib_sequence[i-1] + fib_sequence[i-2]  # Somando os dois termos anteriores\n",
    "        fib_sequence.append(next_term)  # Adicionando o próximo termo à sequência\n",
    "\n",
    "    return fib_sequence[:n]  # Retornando apenas os n primeiros termos\n",
    "\n",
    "# Solicitando o valor de n ao usuário\n",
    "n = int(input(\"Insira o valor de n para gerar a sequência de Fibonacci: \"))\n",
    "\n",
    "print(fibonacci(n))"
   ]
  },
  {
   "cell_type": "markdown",
   "metadata": {},
   "source": [
    "### Exercício 5\n",
    "Faça um programa que leia e valide as seguintes informações:\n",
    "- Nome: maior que 3 caracteres;\n",
    "- Idade: entre 0 e 150;\n",
    "- Salário: maior que zero;\n",
    "- Sexo: 'f' ou 'm';\n",
    "- Estado Civil: 's', 'c', 'v', 'd';"
   ]
  },
  {
   "cell_type": "code",
   "execution_count": null,
   "metadata": {},
   "outputs": [],
   "source": [
    "while True:\n",
    "    print(\"Digite seus dados:\")\n",
    "    nome = input()\n",
    "    idade = int(input())\n",
    "    salario = int(input())\n",
    "    sexo = input()\n",
    "    status = input()\n",
    "    \n",
    "    if nome <= 3:\n",
    "        print(\"digite seu nome completo!\")\n",
    "        \n",
    "    if (idade < 0) or (idade > 150)\n",
    "        print(\"digite uma idade válida\")\n",
    "    if salario <= 0:\n",
    "        print(\"digite seu sálario maior que 0\")\n",
    "    if (sexo != f) or (sexo != m)\n",
    "        print(\"digite f ou m para o seu sexo!\")\n",
    "    if (status != s) or (status != c) or (status != v) or (status != d):\n",
    "        print(\"digite s, c, v ou d para o seu estado civil\")\n",
    "    \n",
    "        \n",
    "    "
   ]
  },
  {
   "cell_type": "markdown",
   "metadata": {},
   "source": [
    "### Exercício 6\n",
    "Faça um programa que peça um número inteiro e determine se ele é ou não um número primo. Um número primo é aquele que é divisível somente por ele mesmo e por 1. \n",
    "Dica: Utilize o operador aritmético `%`, que retorna o resto da divisão de dois números."
   ]
  },
  {
   "cell_type": "code",
   "execution_count": null,
   "metadata": {},
   "outputs": [],
   "source": [
    "print(\"Qual número você quer avaliar?\")\n",
    "num_1 = input()\n",
    "\n",
    "def avaliar(num_1):\n",
    "    num_1 % 2 =="
   ]
  }
 ],
 "metadata": {
  "kernelspec": {
   "display_name": "Python 3 (ipykernel)",
   "language": "python",
   "name": "python3"
  },
  "language_info": {
   "codemirror_mode": {
    "name": "ipython",
    "version": 3
   },
   "file_extension": ".py",
   "mimetype": "text/x-python",
   "name": "python",
   "nbconvert_exporter": "python",
   "pygments_lexer": "ipython3",
   "version": "3.12.4"
  }
 },
 "nbformat": 4,
 "nbformat_minor": 4
}
