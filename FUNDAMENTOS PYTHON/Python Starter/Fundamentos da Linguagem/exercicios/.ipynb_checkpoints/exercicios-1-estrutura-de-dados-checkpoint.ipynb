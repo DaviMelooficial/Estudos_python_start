{
 "cells": [
  {
   "cell_type": "markdown",
   "metadata": {},
   "source": [
    "<img src=\"https://asimov.academy/wp-content/uploads/2021/01/logo.png\" width=\"200\"/>\n",
    "_____________________________________________\n",
    "\n",
    "## Exercícios #1 - Estruturas de dados\n"
   ]
  },
  {
   "cell_type": "markdown",
   "metadata": {},
   "source": [
    "### Exercício 1\n",
    "Utilizando o built-in method input(), crie um programa que receba a altura e o peso de uma pessoa e imprima na tela o IMC da mesma."
   ]
  },
  {
   "cell_type": "code",
   "execution_count": 5,
   "metadata": {},
   "outputs": [
    {
     "name": "stdin",
     "output_type": "stream",
     "text": [
      " 10\n",
      " 54\n"
     ]
    },
    {
     "name": "stdout",
     "output_type": "stream",
     "text": [
      "0.54\n"
     ]
    }
   ],
   "source": [
    "altura = float(input())\n",
    "peso = float(input())\n",
    "\n",
    "IMC = peso / altura ** 2\n",
    "print(IMC)"
   ]
  },
  {
   "cell_type": "markdown",
   "metadata": {},
   "source": [
    "### Exercício 2 \n",
    "Escreva um programa que pergunte o nome completo do usuário e cumprimente o mesmo pelo primeiro nome."
   ]
  },
  {
   "cell_type": "code",
   "execution_count": 9,
   "metadata": {},
   "outputs": [
    {
     "name": "stdout",
     "output_type": "stream",
     "text": [
      "Qual o seu nome?\n"
     ]
    },
    {
     "name": "stdin",
     "output_type": "stream",
     "text": [
      " Davi\n"
     ]
    },
    {
     "name": "stdout",
     "output_type": "stream",
     "text": [
      "Muito prazer Davi\n"
     ]
    }
   ],
   "source": [
    "print(\"Qual o seu nome?\")\n",
    "nome = input()\n",
    "print(\"Muito prazer {}\".format(nome))"
   ]
  },
  {
   "cell_type": "markdown",
   "metadata": {},
   "source": [
    "### Exercício 3\n",
    "Desenho um código que extraia o domínio de um e-mail informado."
   ]
  },
  {
   "cell_type": "code",
   "execution_count": 7,
   "metadata": {},
   "outputs": [
    {
     "name": "stdout",
     "output_type": "stream",
     "text": [
      "Qual o seu email?\n"
     ]
    },
    {
     "name": "stdin",
     "output_type": "stream",
     "text": [
      " davilimolo@gmail.com\n"
     ]
    },
    {
     "name": "stdout",
     "output_type": "stream",
     "text": [
      "gmail.com\n"
     ]
    }
   ],
   "source": [
    "print(\"Qual o seu email?\")\n",
    "email = input()\n",
    "dominio = email.split(\"@\")[1]\n",
    "print(dominio)"
   ]
  },
  {
   "cell_type": "markdown",
   "metadata": {},
   "source": [
    "### Exercício 4 \n",
    "Faça um programa para uma loja de tintas. A pessoa informa a área em m2 que deseja pintar, e o script calculará a quantidade de latas de tinta que a pessoa deve comprar e o valor. Considere que cada litro de tinta pinta 3m2, que cada lata contém 18L e que custa R$ 80."
   ]
  },
  {
   "cell_type": "code",
   "execution_count": 76,
   "metadata": {},
   "outputs": [
    {
     "name": "stdout",
     "output_type": "stream",
     "text": [
      "Olá quantos metros você deseja pintar?\n"
     ]
    },
    {
     "name": "stdin",
     "output_type": "stream",
     "text": [
      " 180\n"
     ]
    },
    {
     "name": "stdout",
     "output_type": "stream",
     "text": [
      "Você precisará de 3.3333333333333335 e custará R$266.6666666666667\n"
     ]
    }
   ],
   "source": [
    "lata = 80\n",
    "litro_lata = 18\n",
    "lata_area = litro_lata * 3\n",
    "\n",
    "print(\"Olá quantos metros você deseja pintar?\")\n",
    "area = float(input())\n",
    "\n",
    "quantidade_latas = area/lata_area\n",
    "valor_latas = lata * quantidade_latas\n",
    "\n",
    "print(\"Você precisará de {} e custará R${}\".format(quantidade_latas, valor_latas))"
   ]
  },
  {
   "cell_type": "markdown",
   "metadata": {},
   "source": [
    "### Exercício 5\n",
    "Faça um Programa que pergunte quanto você ganha por hora e o número de horas trabalhadas no mês. Calcule e mostre o total do seu salário no referido mês, sabendo-se que são descontados 11% para o Imposto de Renda, 8% para o INSS e 5% para o sindicato, faça um programa que nos dê:\n",
    "1. Salário bruto.\n",
    "2. Quanto pagou ao INSS.\n",
    "3. Quanto pagou ao sindicato.\n",
    "4. O salário líquido."
   ]
  },
  {
   "cell_type": "code",
   "execution_count": 84,
   "metadata": {},
   "outputs": [
    {
     "name": "stdout",
     "output_type": "stream",
     "text": [
      "Quanto você ganha por hora? e quantas horas trabalha por mês?\n"
     ]
    },
    {
     "name": "stdin",
     "output_type": "stream",
     "text": [
      " 10\n",
      " 10\n"
     ]
    },
    {
     "name": "stdout",
     "output_type": "stream",
     "text": [
      " 1 - Seu salário bruto é R$100.0\n",
      " 2 - Você paga R$8.0 ao INSS\n",
      " 3 - Paga R$5.0 ao sindicato\n",
      " 4 - Seu salário líquido é R$76.0\n"
     ]
    }
   ],
   "source": [
    "print(\"Quanto você ganha por hora? e quantas horas trabalha por mês?\")\n",
    "\n",
    "valor_hora = float(input())\n",
    "hora_mes = float(input())\n",
    "\n",
    "bruto_mes = valor_hora * hora_mes\n",
    "imposto = bruto_mes * 11/100\n",
    "INSS = bruto_mes * 8/100\n",
    "sindicato = bruto_mes * 5/100\n",
    "liquido = bruto_mes - imposto - INSS - sindicato\n",
    "\n",
    "print(\" 1 - Seu salário bruto é R${}\".format(bruto_mes))\n",
    "print(\" 2 - Você paga R${} ao INSS\".format(INSS))\n",
    "print(\" 3 - Paga R${} ao sindicato\".format(sindicato))\n",
    "print(\" 4 - Seu salário líquido é R${}\".format(liquido))\n"
   ]
  }
 ],
 "metadata": {
  "kernelspec": {
   "display_name": "Python 3 (ipykernel)",
   "language": "python",
   "name": "python3"
  },
  "language_info": {
   "codemirror_mode": {
    "name": "ipython",
    "version": 3
   },
   "file_extension": ".py",
   "mimetype": "text/x-python",
   "name": "python",
   "nbconvert_exporter": "python",
   "pygments_lexer": "ipython3",
   "version": "3.12.4"
  }
 },
 "nbformat": 4,
 "nbformat_minor": 4
}
