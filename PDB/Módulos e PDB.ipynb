{
 "cells": [
  {
   "cell_type": "markdown",
   "id": "fb38becd-30d6-4c19-a936-386f00419b6e",
   "metadata": {},
   "source": [
    "## A biblioteca pdb ou Python Debugger é utilizada para depurar códigos utilizando pausas e interações sem crashar o código\n"
   ]
  },
  {
   "cell_type": "code",
   "execution_count": 10,
   "id": "03f75b88-21d3-4beb-badf-7c84e765b110",
   "metadata": {},
   "outputs": [],
   "source": [
    "import pdb"
   ]
  },
  {
   "cell_type": "code",
   "execution_count": 12,
   "id": "d93ef7a3-3860-46ad-99bc-9ef380f132e6",
   "metadata": {},
   "outputs": [
    {
     "name": "stdout",
     "output_type": "stream",
     "text": [
      "15\n",
      "--Return--\n",
      "None\n",
      "> \u001b[1;32mc:\\users\\davim\\appdata\\local\\temp\\ipykernel_6860\\2601073294.py\u001b[0m(7)\u001b[0;36m<module>\u001b[1;34m()\u001b[0m\n",
      "\n"
     ]
    },
    {
     "name": "stdin",
     "output_type": "stream",
     "text": [
      "ipdb>  print(x + y)\n"
     ]
    },
    {
     "name": "stdout",
     "output_type": "stream",
     "text": [
      "*** TypeError: can only concatenate list (not \"int\") to list\n"
     ]
    },
    {
     "name": "stdin",
     "output_type": "stream",
     "text": [
      "ipdb>  c\n"
     ]
    },
    {
     "ename": "TypeError",
     "evalue": "can only concatenate list (not \"int\") to list",
     "output_type": "error",
     "traceback": [
      "\u001b[1;31m---------------------------------------------------------------------------\u001b[0m",
      "\u001b[1;31mTypeError\u001b[0m                                 Traceback (most recent call last)",
      "Cell \u001b[1;32mIn[12], line 8\u001b[0m\n\u001b[0;32m      5\u001b[0m \u001b[38;5;28mprint\u001b[39m(z \u001b[38;5;241m+\u001b[39m y)\n\u001b[0;32m      7\u001b[0m pdb\u001b[38;5;241m.\u001b[39mset_trace()\n\u001b[1;32m----> 8\u001b[0m \u001b[38;5;28mprint\u001b[39m(x \u001b[38;5;241m+\u001b[39m y)\n",
      "\u001b[1;31mTypeError\u001b[0m: can only concatenate list (not \"int\") to list"
     ]
    }
   ],
   "source": [
    "y = 5\n",
    "z = 10\n",
    "x = [1, 2, 3]\n",
    "\n",
    "print(z + y)\n",
    "\n",
    "pdb.set_trace()\n",
    "print(x + y)"
   ]
  },
  {
   "cell_type": "code",
   "execution_count": null,
   "id": "ce47be19-8a64-4954-a439-d5d2e1d3981e",
   "metadata": {},
   "outputs": [],
   "source": []
  }
 ],
 "metadata": {
  "kernelspec": {
   "display_name": "Python 3 (ipykernel)",
   "language": "python",
   "name": "python3"
  },
  "language_info": {
   "codemirror_mode": {
    "name": "ipython",
    "version": 3
   },
   "file_extension": ".py",
   "mimetype": "text/x-python",
   "name": "python",
   "nbconvert_exporter": "python",
   "pygments_lexer": "ipython3",
   "version": "3.12.4"
  }
 },
 "nbformat": 4,
 "nbformat_minor": 5
}
