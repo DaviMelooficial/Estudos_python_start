{
 "cells": [
  {
   "cell_type": "markdown",
   "id": "85a90b54-1f7c-484c-a114-2f9e1e7f80c2",
   "metadata": {},
   "source": [
    "## O try é uma ferramenta poderosa para depurar e previnir o código de interações do usuário"
   ]
  },
  {
   "cell_type": "code",
   "execution_count": 27,
   "id": "30c2ec3d-d744-4bef-a07e-9d27f5408095",
   "metadata": {},
   "outputs": [
    {
     "name": "stdout",
     "output_type": "stream",
     "text": [
      "Erro: can only concatenate list (not \"int\") to list\n",
      "olá\n"
     ]
    }
   ],
   "source": [
    "x = [1, 2, 3]\n",
    "y = 10\n",
    "\n",
    "try: # Tenta executar o código\n",
    "    print(x + y)\n",
    "except Exception as e: # Exception as e me permite retornar o erro\n",
    "    print(\"Erro: {}\".format(e))\n",
    "finally: # É executado independente do except\n",
    "    print(\"olá\")"
   ]
  },
  {
   "cell_type": "code",
   "execution_count": null,
   "id": "9ff49a94-552d-469b-8c5c-1ac667f90385",
   "metadata": {},
   "outputs": [],
   "source": []
  }
 ],
 "metadata": {
  "kernelspec": {
   "display_name": "Python 3 (ipykernel)",
   "language": "python",
   "name": "python3"
  },
  "language_info": {
   "codemirror_mode": {
    "name": "ipython",
    "version": 3
   },
   "file_extension": ".py",
   "mimetype": "text/x-python",
   "name": "python",
   "nbconvert_exporter": "python",
   "pygments_lexer": "ipython3",
   "version": "3.12.4"
  }
 },
 "nbformat": 4,
 "nbformat_minor": 5
}
